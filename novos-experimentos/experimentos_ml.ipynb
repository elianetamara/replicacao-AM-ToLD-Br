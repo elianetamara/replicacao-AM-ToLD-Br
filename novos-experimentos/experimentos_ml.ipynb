{
  "cells": [
    {
      "cell_type": "markdown",
      "metadata": {
        "id": "IOJzqS7fGHm7"
      },
      "source": [
        "# Treinamento de modelos de aprendizagem de máquina em classificação binária e multilabel usando o dataset ToLD-Br"
      ]
    },
    {
      "cell_type": "markdown",
      "metadata": {
        "id": "My8FdnWjGnIv"
      },
      "source": [
        "## Imports e configurações iniciais"
      ]
    },
    {
      "cell_type": "code",
      "execution_count": null,
      "metadata": {
        "id": "ouTDORM2GFvT"
      },
      "outputs": [],
      "source": [
        "import os\n",
        "import re\n",
        "import string\n",
        "import unicodedata\n",
        "import json\n",
        "import logging\n",
        "\n",
        "import pandas as pd\n",
        "import numpy as np\n",
        "\n",
        "import nltk\n",
        "from nltk.corpus import stopwords\n",
        "nltk.download(\"stopwords\")"
      ]
    },
    {
      "cell_type": "code",
      "execution_count": null,
      "metadata": {
        "id": "VvcwnwBVGwm1"
      },
      "outputs": [],
      "source": [
        "from sklearn.model_selection import train_test_split, StratifiedKFold\n",
        "from sklearn.feature_extraction.text import TfidfVectorizer\n",
        "from sklearn.pipeline import Pipeline\n",
        "from sklearn.metrics import (accuracy_score, precision_score, recall_score,\n",
        "                             f1_score, confusion_matrix, classification_report)\n",
        "from sklearn.linear_model import LogisticRegression\n",
        "from sklearn.naive_bayes import MultinomialNB\n",
        "from sklearn.tree import DecisionTreeClassifier\n",
        "from sklearn.ensemble import RandomForestClassifier, VotingClassifier\n",
        "from sklearn.neighbors import KNeighborsClassifier\n",
        "from sklearn.multiclass import OneVsRestClassifier\n",
        "from sklearn.preprocessing import MultiLabelBinarizer"
      ]
    },
    {
      "cell_type": "code",
      "execution_count": null,
      "metadata": {
        "id": "Op7qJn-iH4dH"
      },
      "outputs": [],
      "source": [
        "logging.basicConfig(level=logging.INFO)\n",
        "logger = logging.getLogger(__name__)"
      ]
    },
    {
      "cell_type": "code",
      "execution_count": null,
      "metadata": {
        "id": "hepjl5ING0ym"
      },
      "outputs": [],
      "source": [
        "SEED = 42\n",
        "np.random.seed(SEED)"
      ]
    },
    {
      "cell_type": "markdown",
      "metadata": {
        "id": "lyDvRZweHapH"
      },
      "source": [
        "## Carregamento dos dados"
      ]
    },
    {
      "cell_type": "code",
      "execution_count": null,
      "metadata": {
        "id": "iOwlQr76Hdj_"
      },
      "outputs": [],
      "source": [
        "dataset_path = \"../ToLD-BR.csv\"\n",
        "\n",
        "df = pd.read_csv(dataset_path, encoding=\"utf-8\")"
      ]
    },
    {
      "cell_type": "code",
      "execution_count": null,
      "metadata": {
        "id": "UWdA0IRUIFgX"
      },
      "outputs": [],
      "source": [
        "df.head()"
      ]
    },
    {
      "cell_type": "markdown",
      "metadata": {
        "id": "KiEtrtpoG28q"
      },
      "source": [
        "## Pré processamento de dados"
      ]
    },
    {
      "cell_type": "markdown",
      "metadata": {
        "id": "aQ0Wi_yJG_vV"
      },
      "source": [
        "Remoção de acentos, URLs, menções, hashtags, dígitos e pontuação"
      ]
    },
    {
      "cell_type": "code",
      "execution_count": null,
      "metadata": {
        "id": "nk4QaqseG6sO"
      },
      "outputs": [],
      "source": [
        "def remove_accentuation(text):\n",
        "    nfkd = unicodedata.normalize(\"NFKD\", text)\n",
        "    return \"\".join([c for c in nfkd if not unicodedata.combining(c)])"
      ]
    },
    {
      "cell_type": "code",
      "execution_count": null,
      "metadata": {
        "id": "j-CJTdqBG8Ni"
      },
      "outputs": [],
      "source": [
        "def clean_text(text, stopwords_set=None):\n",
        "    if text is None:\n",
        "        return \"\"\n",
        "    text = text.lower()\n",
        "    text = remove_accentuation(text)\n",
        "    text = re.sub(r\"http\\S+|www\\S+|https\\S+\", \" \", text)\n",
        "    text = re.sub(r\"@\\w+\", \" \", text)\n",
        "    text = re.sub(r\"#\\w+\", \" \", text)\n",
        "    text = re.sub(r\"\\d+\", \" \", text)\n",
        "    text = text.translate(str.maketrans(\"\", \"\", string.punctuation))\n",
        "    tokens = text.split()\n",
        "    if stopwords_set is not None:\n",
        "        tokens = [w for w in tokens if w not in stopwords_set]\n",
        "    return \" \".join(tokens)"
      ]
    },
    {
      "cell_type": "code",
      "execution_count": null,
      "metadata": {
        "id": "TLOVgkmEHQJA"
      },
      "outputs": [],
      "source": [
        "def preprocess(series, stopwords_set=None):\n",
        "    return series.map(lambda x: clean_text(str(x), stopwords_set=stopwords_set))"
      ]
    },
    {
      "cell_type": "markdown",
      "metadata": {
        "id": "_RDvOewsIV3U"
      },
      "source": [
        "## Tratamento e Rotulagem"
      ]
    },
    {
      "cell_type": "code",
      "execution_count": null,
      "metadata": {
        "id": "F3El7ddkJd7T"
      },
      "outputs": [],
      "source": [
        "stopwords_pt = set(stopwords.words(\"portuguese\"))\n",
        "df[\"text_clean\"] = preprocess(df[\"text\"], stopwords_set=stopwords_pt)"
      ]
    },
    {
      "cell_type": "code",
      "execution_count": null,
      "metadata": {
        "id": "-5tjIR4SKbAx"
      },
      "outputs": [],
      "source": [
        "categories = [\"homophobia\",\"obscene\",\"insult\",\"racism\",\"misogyny\",\"xenophobia\"]"
      ]
    },
    {
      "cell_type": "code",
      "execution_count": null,
      "metadata": {
        "id": "yubebEAHU8Ax"
      },
      "outputs": [],
      "source": [
        "vect = TfidfVectorizer(ngram_range=(1,2), min_df=5, max_df=0.9)"
      ]
    },
    {
      "cell_type": "markdown",
      "metadata": {
        "id": "YAMI56tZJzYF"
      },
      "source": [
        "### Binária"
      ]
    },
    {
      "cell_type": "code",
      "execution_count": null,
      "metadata": {
        "id": "SzEixfN_Jyzt"
      },
      "outputs": [],
      "source": [
        "df_binary = df.copy()\n",
        "df_binary[\"toxic_binary\"] = (df_binary[categories].sum(axis=1) > 0).astype(int)"
      ]
    },
    {
      "cell_type": "code",
      "execution_count": null,
      "metadata": {
        "id": "Ci0jBKfcKJty"
      },
      "outputs": [],
      "source": [
        "X_binary = df_binary[\"text_clean\"].values\n",
        "y_binary = df_binary[\"toxic_binary\"].values"
      ]
    },
    {
      "cell_type": "code",
      "execution_count": null,
      "metadata": {
        "id": "r7egPXQfL63J"
      },
      "outputs": [],
      "source": [
        "X_train_bin, X_test_bin, y_train_bin, y_test_bin = train_test_split(\n",
        "    X_binary, y_binary, test_size=0.3, stratify=y_binary, random_state=SEED\n",
        ")"
      ]
    },
    {
      "cell_type": "code",
      "execution_count": null,
      "metadata": {
        "id": "HouJnb5_NYe5"
      },
      "outputs": [],
      "source": [
        "X_train_bin_tfidf = vect.fit_transform(X_train_bin)\n",
        "X_test_bin_tfidf  = vect.transform(X_test_bin)"
      ]
    },
    {
      "cell_type": "markdown",
      "metadata": {
        "id": "OzucYWeGKMer"
      },
      "source": [
        "### Multilabel"
      ]
    },
    {
      "cell_type": "code",
      "execution_count": null,
      "metadata": {
        "id": "odEftwg1KkQM"
      },
      "outputs": [],
      "source": [
        "df_multil = df.copy()"
      ]
    },
    {
      "cell_type": "code",
      "execution_count": null,
      "metadata": {
        "id": "pB3AXcgMKQys"
      },
      "outputs": [],
      "source": [
        "y_multil = df_multil[categories].apply(lambda col: (col > 0).astype(int)).values\n",
        "X_multil = df_multil[\"text_clean\"].values"
      ]
    },
    {
      "cell_type": "code",
      "execution_count": null,
      "metadata": {
        "id": "Ij_PKyD0L-Ns"
      },
      "outputs": [],
      "source": [
        "X_train_ml, X_test_ml, y_train_ml, y_test_ml = train_test_split(\n",
        "    X_multil, y_multil, test_size=0.3, random_state=SEED\n",
        ")"
      ]
    },
    {
      "cell_type": "code",
      "execution_count": null,
      "metadata": {
        "id": "23FMbNA5NymN"
      },
      "outputs": [],
      "source": [
        "X_train_ml_tfidf = vect.fit_transform(X_train_ml)\n",
        "X_test_ml_tfidf  = vect.transform(X_test_ml)"
      ]
    },
    {
      "cell_type": "markdown",
      "metadata": {
        "id": "vC4HXt91OsGr"
      },
      "source": [
        "## Execução e Avaliação"
      ]
    },
    {
      "cell_type": "code",
      "execution_count": null,
      "metadata": {
        "id": "vtFPK5AzP1OI"
      },
      "outputs": [],
      "source": [
        "models = {\n",
        "    \"LogisticRegression\": LogisticRegression(max_iter=200, random_state=SEED, class_weight=\"balanced\"),\n",
        "    \"NaiveBayes\":        MultinomialNB(),\n",
        "    \"DecisionTree\":      DecisionTreeClassifier(random_state=SEED, class_weight=\"balanced\"),\n",
        "    \"RandomForest\":      RandomForestClassifier(n_estimators=100, random_state=SEED, class_weight=\"balanced\", n_jobs=-1),\n",
        "    \"KNN\":               KNeighborsClassifier(n_neighbors=5)\n",
        "}"
      ]
    },
    {
      "cell_type": "code",
      "execution_count": null,
      "metadata": {
        "id": "bB-2gkN4YGL8"
      },
      "outputs": [],
      "source": [
        "estimators = [(name, model) for name, model in models.items()]"
      ]
    },
    {
      "cell_type": "code",
      "execution_count": null,
      "metadata": {
        "id": "sRSdib50V7YB"
      },
      "outputs": [],
      "source": [
        "def save_results_json(execution_type, results):\n",
        "  with open(f\"./results_{execution_type}.json\", \"w\", encoding=\"utf-8\") as f:\n",
        "    json.dump(results, f, indent=4, ensure_ascii=False)\n",
        "  logger.info(f\"Resultados de classificação {execution_type} salvos em results_{execution_type}.json\")"
      ]
    },
    {
      "cell_type": "markdown",
      "metadata": {
        "id": "A2kmFyeyQmKA"
      },
      "source": [
        "### Binária"
      ]
    },
    {
      "cell_type": "code",
      "execution_count": null,
      "metadata": {
        "id": "o-wZoR4dO2ch"
      },
      "outputs": [],
      "source": [
        "def test_results_binary(name, y_test, y_pred, results):\n",
        "    acc  = accuracy_score(y_test, y_pred)\n",
        "    prec = precision_score(y_test, y_pred, zero_division=0)\n",
        "    rec  = recall_score(y_test, y_pred, zero_division=0)\n",
        "    f1   = f1_score(y_test, y_pred, zero_division=0)\n",
        "    cm   = confusion_matrix(y_test, y_pred).tolist()\n",
        "    logger.info(f\"{name} — acc:{acc:.4f}, prec:{prec:.4f}, rec:{rec:.4f}, f1:{f1:.4f}\")\n",
        "    results[name] = {\n",
        "        \"accuracy\": acc,\n",
        "        \"precision\": prec,\n",
        "        \"recall\": rec,\n",
        "        \"f1_score\": f1,\n",
        "        \"confusion_matrix\": cm\n",
        "    }"
      ]
    },
    {
      "cell_type": "code",
      "execution_count": null,
      "metadata": {
        "id": "6-xyni26Owd9"
      },
      "outputs": [],
      "source": [
        "def run_models_binary(results, X_train, y_train, X_test, y_test):\n",
        "  for name, model in models.items():\n",
        "    logger.info(f\"[Binária] Treinando modelo: {name}\")\n",
        "    model.fit(X_train, y_train)\n",
        "    y_pred = model.predict(X_test)\n",
        "    test_results_binary(name, y_test, y_pred, results)"
      ]
    },
    {
      "cell_type": "markdown",
      "metadata": {
        "id": "pUr3FSO7QpcG"
      },
      "source": [
        "### Multilabel"
      ]
    },
    {
      "cell_type": "code",
      "execution_count": null,
      "metadata": {
        "id": "GXitchS-Qs0y"
      },
      "outputs": [],
      "source": [
        "def test_results_multilabel(name, y_test, y_pred, results):\n",
        "    acc  = accuracy_score(y_test, y_pred)\n",
        "    prec = precision_score(y_test, y_pred, average=\"macro\", zero_division=0)\n",
        "    rec  = recall_score(y_test, y_pred, average=\"macro\", zero_division=0)\n",
        "    f1   = f1_score(y_test, y_pred, average=\"macro\", zero_division=0)\n",
        "    cm   = [confusion_matrix(y_test[:,i], y_pred[:,i]).tolist() for i in range(y_test.shape[1])]\n",
        "    logger.info(f\"{name} multilabel — acc:{acc:.4f}, prec:{prec:.4f}, rec:{rec:.4f}, f1:{f1:.4f}\")\n",
        "    results[name] = {\n",
        "        \"accuracy\": acc,\n",
        "        \"precision_macro\": prec,\n",
        "        \"recall_macro\": rec,\n",
        "        \"f1_macro\": f1,\n",
        "        \"confusion_matrix_per_class\": cm\n",
        "    }"
      ]
    },
    {
      "cell_type": "code",
      "execution_count": null,
      "metadata": {
        "id": "Rk6UzSh_RKLZ"
      },
      "outputs": [],
      "source": [
        "def run_models_multilabel(results, X_train, y_train, X_test, y_test):\n",
        "  for name, base_model in models.items():\n",
        "    logger.info(f\"[Multilabel] Treinando modelo: {name}\")\n",
        "    ml_model = OneVsRestClassifier(base_model)\n",
        "    ml_model.fit(X_train, y_train)\n",
        "    y_pred_ml = ml_model.predict(X_test)\n",
        "    test_results_multilabel(name, y_test, y_pred_ml, results)"
      ]
    },
    {
      "cell_type": "markdown",
      "metadata": {
        "id": "-JTSE7-2YfAJ"
      },
      "source": [
        "### Ensemble Voting"
      ]
    },
    {
      "cell_type": "code",
      "execution_count": null,
      "metadata": {
        "id": "xOcDw5vmYqcR"
      },
      "outputs": [],
      "source": [
        "def ensemble_voting(execution_type, results, X_train, y_train, X_test, y_test):\n",
        "  logger.info(f\"[{execution_type}] Treinando Voting Ensemble\")\n",
        "  voting = OneVsRestClassifier(VotingClassifier(estimators=estimators, voting=\"soft\", n_jobs=-1)) if execution_type == \"Multilabel\" else VotingClassifier(estimators=estimators, voting=\"soft\", n_jobs=-1)\n",
        "  voting.fit(X_train, y_train)\n",
        "  y_pred_v = voting.predict(X_test)\n",
        "  if execution_type == \"Multilabel\":\n",
        "    test_results_multilabel(\"VotingEnsemble\", y_test, y_pred_v, results)\n",
        "  else:\n",
        "    test_results_binary(\"VotingEnsemble\", y_test, y_pred_v, results)"
      ]
    },
    {
      "cell_type": "markdown",
      "metadata": {
        "id": "nZbfKNiiN5jS"
      },
      "source": [
        "## Treinamentos"
      ]
    },
    {
      "cell_type": "markdown",
      "metadata": {
        "id": "7tLmunuxOQiF"
      },
      "source": [
        "### Binário"
      ]
    },
    {
      "cell_type": "code",
      "execution_count": null,
      "metadata": {
        "id": "hzrqIolNOJkq"
      },
      "outputs": [],
      "source": [
        "results_bin = {}\n",
        "\n",
        "run_models_binary(results_bin, X_train_bin_tfidf, y_train_bin, X_test_bin_tfidf, y_test_bin)\n",
        "ensemble_voting(\"Binaria\", results_bin, X_train_bin_tfidf, y_train_bin, X_test_bin_tfidf, y_test_bin)\n",
        "\n",
        "save_results_json(\"binaria\", results_bin)"
      ]
    },
    {
      "cell_type": "markdown",
      "metadata": {
        "id": "YX18B2fGVXFd"
      },
      "source": [
        "### Multilabel"
      ]
    },
    {
      "cell_type": "code",
      "execution_count": null,
      "metadata": {
        "id": "K9XsES73Vbxw"
      },
      "outputs": [],
      "source": [
        "results_ml = {}\n",
        "\n",
        "run_models_multilabel(results_ml, X_train_ml_tfidf, y_train_ml, X_test_ml_tfidf, y_test_ml)\n",
        "ensemble_voting(\"Multilabel\", results_ml, X_train_ml_tfidf, y_train_ml, X_test_ml_tfidf, y_test_ml)\n",
        "\n",
        "save_results_json(\"multilabel\", results_ml)"
      ]
    }
  ],
  "metadata": {
    "colab": {
      "collapsed_sections": [
        "My8FdnWjGnIv",
        "lyDvRZweHapH",
        "KiEtrtpoG28q",
        "A2kmFyeyQmKA",
        "-JTSE7-2YfAJ",
        "nZbfKNiiN5jS"
      ],
      "provenance": []
    },
    "kernelspec": {
      "display_name": "Python 3",
      "name": "python3"
    },
    "language_info": {
      "name": "python"
    }
  },
  "nbformat": 4,
  "nbformat_minor": 0
}
