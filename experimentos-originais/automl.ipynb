{
  "nbformat": 4,
  "nbformat_minor": 0,
  "metadata": {
    "colab": {
      "name": "automl_toxic.ipynb",
      "provenance": []
    },
    "kernelspec": {
      "name": "python3",
      "display_name": "Python 3"
    },
    "accelerator": "GPU"
  },
  "cells": [
    {
      "cell_type": "code",
      "metadata": {
        "id": "ri6TZkVvqfMK"
      },
      "source": [
        "!sudo apt-get install build-essential swig\n",
        "!pip install auto-sklearn\n",
        "!pip install liac-arff"
      ],
      "execution_count": null,
      "outputs": []
    },
    {
      "cell_type": "code",
      "metadata": {
        "id": "7SVD8oLrqoSV"
      },
      "source": [
        "import sklearn.metrics\n",
        "from sklearn.feature_extraction.text import CountVectorizer\n",
        "import autosklearn.classification\n",
        "import pandas as pd\n",
        "\n",
        "train = pd.read_csv(\"ptbr_train_1annotator.csv\")\n",
        "validation = pd.read_csv(\"ptbr_validation_1annotator.csv\")\n",
        "test = pd.read_csv(\"ptbr_test_1annotator.csv\")\n",
        "\n",
        "bow = CountVectorizer()\n",
        "bow.fit(train[\"text\"])\n",
        "\n",
        "X_train = bow.transform(train[\"text\"])\n",
        "y_train = list(train[\"toxic\"])\n",
        "\n",
        "X_validation = bow.transform(validation[\"text\"])\n",
        "y_validation = list(validation[\"toxic\"])\n",
        "\n",
        "X_test = bow.transform(test[\"text\"])\n",
        "y_test = list(test[\"toxic\"])\n",
        "\n",
        "automl = autosklearn.classification.AutoSklearnClassifier()\n",
        "automl.fit(X_train, y_train, X_test=X_validation, y_test=y_validation)"
      ],
      "execution_count": null,
      "outputs": []
    },
    {
      "cell_type": "code",
      "metadata": {
        "id": "vG38ENHBriHm",
        "outputId": "43a3b61e-d272-42ba-ccf4-682cc6a72e92",
        "colab": {
          "base_uri": "https://localhost:8080/",
          "height": 187
        }
      },
      "source": [
        "print(automl.sprint_statistics())"
      ],
      "execution_count": null,
      "outputs": [
        {
          "output_type": "stream",
          "text": [
            "auto-sklearn results:\n",
            "  Dataset name: abd3298b2b82c6af054b56730e6e1865\n",
            "  Metric: accuracy\n",
            "  Best validation score: 0.753968\n",
            "  Number of target algorithm runs: 29\n",
            "  Number of successful target algorithm runs: 20\n",
            "  Number of crashed target algorithm runs: 0\n",
            "  Number of target algorithms that exceeded the time limit: 5\n",
            "  Number of target algorithms that exceeded the memory limit: 4\n",
            "\n"
          ],
          "name": "stdout"
        }
      ]
    },
    {
      "cell_type": "code",
      "metadata": {
        "id": "sl_FTP0hqui3"
      },
      "source": [
        "y_pred = automl.predict(X_test)"
      ],
      "execution_count": null,
      "outputs": []
    },
    {
      "cell_type": "code",
      "metadata": {
        "id": "XiQ1lWZ8_wvD",
        "outputId": "281dbc8e-37b2-4e78-f6b6-ccbe0dab3450",
        "colab": {
          "base_uri": "https://localhost:8080/"
        }
      },
      "source": [
        "from sklearn.metrics import classification_report, confusion_matrix\n",
        "\n",
        "print(classification_report(y_test, y_pred))\n",
        "print(confusion_matrix(y_test, y_pred))"
      ],
      "execution_count": null,
      "outputs": [
        {
          "output_type": "stream",
          "text": [
            "              precision    recall  f1-score   support\n",
            "\n",
            "           0       0.76      0.75      0.75      1128\n",
            "           1       0.71      0.73      0.72       972\n",
            "\n",
            "    accuracy                           0.74      2100\n",
            "   macro avg       0.74      0.74      0.74      2100\n",
            "weighted avg       0.74      0.74      0.74      2100\n",
            "\n",
            "[[843 285]\n",
            " [263 709]]\n"
          ],
          "name": "stdout"
        }
      ]
    },
    {
      "cell_type": "markdown",
      "metadata": {
        "id": "Hzrc6ltY0f9n"
      },
      "source": [
        "# Multi-Label Classification"
      ]
    },
    {
      "cell_type": "code",
      "metadata": {
        "id": "ivSIxglcESaI"
      },
      "source": [
        "from sklearn.metrics import hamming_loss, average_precision_score\n",
        "from sklearn.feature_extraction.text import CountVectorizer\n",
        "from sklearn.model_selection import train_test_split\n",
        "import autosklearn.classification\n",
        "import pandas as pd\n",
        "import numpy as np\n",
        "import gdown\n",
        "\n",
        "SEED = 42"
      ],
      "execution_count": null,
      "outputs": []
    },
    {
      "cell_type": "code",
      "metadata": {
        "id": "7xvnZ3h4Fpgx",
        "outputId": "94c4ea57-d45d-409c-9723-7d667e0d9f50",
        "colab": {
          "base_uri": "https://localhost:8080/",
          "height": 103
        }
      },
      "source": [
        "dataset_url = \"https://drive.google.com/uc?id=1refxcQXi-5bDUmmZxH6ZNvRCgSMl-bFe\"\n",
        "output = \"ToLD-BR.csv\"\n",
        "gdown.download(dataset_url, output, quiet=False)"
      ],
      "execution_count": null,
      "outputs": [
        {
          "output_type": "stream",
          "text": [
            "Downloading...\n",
            "From: https://drive.google.com/uc?id=1refxcQXi-5bDUmmZxH6ZNvRCgSMl-bFe\n",
            "To: /content/ToLD-BR.csv\n",
            "2.43MB [00:00, 174MB/s]\n"
          ],
          "name": "stderr"
        },
        {
          "output_type": "execute_result",
          "data": {
            "application/vnd.google.colaboratory.intrinsic+json": {
              "type": "string"
            },
            "text/plain": [
              "'ToLD-BR.csv'"
            ]
          },
          "metadata": {
            "tags": []
          },
          "execution_count": 6
        }
      ]
    },
    {
      "cell_type": "code",
      "metadata": {
        "id": "3N4KMWVBHyCp"
      },
      "source": [
        "data = pd.read_csv(\"ToLD-BR.csv\")\n",
        "data.iloc[:, 1:] = data.iloc[:, 1:].apply(lambda x: [int(bool(v)) for v in x])\n",
        "train, test = train_test_split(data, train_size=0.9, random_state=SEED)\n",
        "test, validation = train_test_split(test, train_size=0.5, random_state=SEED)"
      ],
      "execution_count": null,
      "outputs": []
    },
    {
      "cell_type": "code",
      "metadata": {
        "id": "UggU3GRvLqRl",
        "outputId": "e57044dc-e78a-4288-e6d7-1349cb1d80c2",
        "colab": {
          "base_uri": "https://localhost:8080/",
          "height": 136
        }
      },
      "source": [
        "np.array(train.iloc[:, 1:])"
      ],
      "execution_count": null,
      "outputs": [
        {
          "output_type": "execute_result",
          "data": {
            "text/plain": [
              "array([[0, 0, 1, 0, 0, 0],\n",
              "       [0, 1, 0, 0, 0, 0],\n",
              "       [0, 0, 0, 0, 0, 0],\n",
              "       ...,\n",
              "       [0, 0, 1, 0, 0, 0],\n",
              "       [0, 0, 0, 0, 0, 0],\n",
              "       [0, 0, 1, 0, 0, 0]])"
            ]
          },
          "metadata": {
            "tags": []
          },
          "execution_count": 51
        }
      ]
    },
    {
      "cell_type": "code",
      "metadata": {
        "id": "nh2PZclYLPMD"
      },
      "source": [
        "bow = CountVectorizer()\n",
        "bow.fit(train[\"text\"])\n",
        "\n",
        "X_train = bow.transform(train[\"text\"])\n",
        "y_train = np.array(train.iloc[:, 1:])\n",
        "\n",
        "X_validation = bow.transform(validation[\"text\"])\n",
        "y_validation = np.array(validation.iloc[:, 1:])\n",
        "\n",
        "X_test = bow.transform(test[\"text\"])\n",
        "y_test = np.array(test.iloc[:, 1:])"
      ],
      "execution_count": null,
      "outputs": []
    },
    {
      "cell_type": "code",
      "metadata": {
        "id": "0-tWugsiIc1L",
        "outputId": "ffd3fd21-b877-4241-9007-5183b0a45e97",
        "colab": {
          "base_uri": "https://localhost:8080/",
          "height": 360
        }
      },
      "source": [
        "automl = autosklearn.classification.AutoSklearnClassifiervb()\n",
        "automl.fit(X=X_train, y=y_train, X_test=X_validation, y_test=y_validation)"
      ],
      "execution_count": null,
      "outputs": [
        {
          "output_type": "stream",
          "text": [
            "[WARNING] [2020-10-04 20:06:52,795:EnsembleBuilder(1):03181b8df02a171bb1a71ec0414d475a] Memory Exception -- restart with less ensemble_nbest: 25\n"
          ],
          "name": "stdout"
        },
        {
          "output_type": "stream",
          "text": [
            "/usr/local/lib/python3.6/dist-packages/sklearn/base.py:197: FutureWarning: From version 0.24, get_params will raise an AttributeError if a parameter cannot be retrieved as an instance attribute. Previously it would return None.\n",
            "  FutureWarning)\n"
          ],
          "name": "stderr"
        },
        {
          "output_type": "execute_result",
          "data": {
            "text/plain": [
              "AutoSklearnClassifier(dask_client=None,\n",
              "                      delete_output_folder_after_terminate=True,\n",
              "                      delete_tmp_folder_after_terminate=True,\n",
              "                      disable_evaluator_output=False,\n",
              "                      ensemble_memory_limit=1024, ensemble_nbest=50,\n",
              "                      ensemble_size=50, exclude_estimators=None,\n",
              "                      exclude_preprocessors=None, get_smac_object_callback=None,\n",
              "                      include_estimators=None, include_preprocessors=None,\n",
              "                      initial_configurations_via_metalearning=25,\n",
              "                      logging_config=None, max_models_on_disc=50,\n",
              "                      metadata_directory=None, metric=None,\n",
              "                      ml_memory_limit=3072, n_jobs=None, output_folder=None,\n",
              "                      per_run_time_limit=360, resampling_strategy='holdout',\n",
              "                      resampling_strategy_arguments=None, seed=1,\n",
              "                      smac_scenario_args=None, time_left_for_this_task=3600,\n",
              "                      tmp_folder=None)"
            ]
          },
          "metadata": {
            "tags": []
          },
          "execution_count": 55
        }
      ]
    },
    {
      "cell_type": "code",
      "metadata": {
        "id": "s3q5FKSxUnDY",
        "outputId": "98cab9e0-5326-489f-aa84-b15cd8cdabbd",
        "colab": {
          "base_uri": "https://localhost:8080/",
          "height": 187
        }
      },
      "source": [
        "print(automl.sprint_statistics())"
      ],
      "execution_count": null,
      "outputs": [
        {
          "output_type": "stream",
          "text": [
            "auto-sklearn results:\n",
            "  Dataset name: 03181b8df02a171bb1a71ec0414d475a\n",
            "  Metric: f1_macro\n",
            "  Best validation score: 0.331135\n",
            "  Number of target algorithm runs: 26\n",
            "  Number of successful target algorithm runs: 12\n",
            "  Number of crashed target algorithm runs: 2\n",
            "  Number of target algorithms that exceeded the time limit: 6\n",
            "  Number of target algorithms that exceeded the memory limit: 6\n",
            "\n"
          ],
          "name": "stdout"
        }
      ]
    },
    {
      "cell_type": "code",
      "metadata": {
        "id": "EiDaWwqPUnus"
      },
      "source": [
        "y_pred = automl.predict(X_test)"
      ],
      "execution_count": null,
      "outputs": []
    },
    {
      "cell_type": "code",
      "metadata": {
        "id": "nItu_K6Ld823",
        "outputId": "0d5a0fb6-47bd-4c97-e7cf-5cdd47c44bfd",
        "colab": {
          "base_uri": "https://localhost:8080/",
          "height": 34
        }
      },
      "source": [
        "hamming_loss(y_test, y_pred)"
      ],
      "execution_count": null,
      "outputs": [
        {
          "output_type": "execute_result",
          "data": {
            "text/plain": [
              "0.0838095238095238"
            ]
          },
          "metadata": {
            "tags": []
          },
          "execution_count": 62
        }
      ]
    },
    {
      "cell_type": "code",
      "metadata": {
        "id": "EHJndIxneDq9",
        "outputId": "af5459d2-92dc-4be9-de91-00b8abdd63a8",
        "colab": {
          "base_uri": "https://localhost:8080/",
          "height": 34
        }
      },
      "source": [
        "average_precision_score(y_test, y_pred)"
      ],
      "execution_count": null,
      "outputs": [
        {
          "output_type": "execute_result",
          "data": {
            "text/plain": [
              "0.2018712626773922"
            ]
          },
          "metadata": {
            "tags": []
          },
          "execution_count": 63
        }
      ]
    }
  ]
}