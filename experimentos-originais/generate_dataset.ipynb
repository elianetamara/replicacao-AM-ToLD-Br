{
 "cells": [
  {
   "cell_type": "markdown",
   "metadata": {},
   "source": [
    "# Generate ToLD-Br and files for IAA using mwetoolkit3"
   ]
  },
  {
   "cell_type": "code",
   "execution_count": 96,
   "metadata": {
    "ExecuteTime": {
     "end_time": "2020-10-05T17:51:07.435217Z",
     "start_time": "2020-10-05T17:51:07.421193Z"
    }
   },
   "outputs": [],
   "source": [
    "import pandas as pd\n",
    "import numpy as np"
   ]
  },
  {
   "cell_type": "code",
   "execution_count": 97,
   "metadata": {
    "ExecuteTime": {
     "end_time": "2020-10-05T17:51:07.909725Z",
     "start_time": "2020-10-05T17:51:07.770409Z"
    }
   },
   "outputs": [],
   "source": [
    "data = pd.read_csv(\"../data/told-br/ToLD-BR_alpha.csv\")"
   ]
  },
  {
   "cell_type": "code",
   "execution_count": 99,
   "metadata": {
    "ExecuteTime": {
     "end_time": "2020-10-05T17:54:30.838301Z",
     "start_time": "2020-10-05T17:51:14.667403Z"
    }
   },
   "outputs": [],
   "source": [
    "data[\"toxic\"] = 0\n",
    "data[\"toxic_1\"] = 0\n",
    "data[\"toxic_2\"] = 0\n",
    "data[\"toxic_3\"] = 0\n",
    "data[\"homophobia\"] = 0\n",
    "data[\"obscene\"] = 0\n",
    "data[\"insult\"] = 0\n",
    "data[\"racism\"] = 0\n",
    "data[\"misogyny\"] = 0\n",
    "data[\"xenophobia\"] = 0\n",
    "for i, row in data.iterrows():\n",
    "    count = 0\n",
    "    if 1 in list(row[[\"homophobia_1\", \"obscene_1\", \"insult_1\", \"racism_1\", \"misogyny_1\", \"xenophobia_1\"]]):\n",
    "        data.loc[i, \"toxic_1\"] = 1\n",
    "        count += 1\n",
    "    if 1 in list(row[[\"homophobia_2\", \"obscene_2\", \"insult_2\", \"racism_2\", \"misogyny_2\", \"xenophobia_2\"]]):\n",
    "        data.loc[i, \"toxic_2\"] = 1\n",
    "        count += 1\n",
    "    if 1 in list(row[[\"homophobia_3\", \"obscene_3\", \"insult_3\", \"racism_3\", \"misogyny_3\", \"xenophobia_3\"]]):\n",
    "        data.loc[i, \"toxic_3\"] = 1\n",
    "        count += 1\n",
    "\n",
    "    data.loc[i, \"homophobia\"] = np.sum(list(row[[\"homophobia_1\", \"homophobia_2\", \"homophobia_3\"]]))\n",
    "    \n",
    "    data.loc[i, \"obscene\"] = np.sum(list(row[[\"obscene_1\", \"obscene_2\", \"obscene_3\"]]))\n",
    "    \n",
    "    data.loc[i, \"insult\"] = np.sum(list(row[[\"insult_1\", \"insult_2\", \"insult_3\"]]))\n",
    "    \n",
    "    data.loc[i, \"racism\"] = np.sum(list(row[[\"racism_1\", \"racism_2\", \"racism_3\"]]))\n",
    "        \n",
    "    data.loc[i, \"misogyny\"] = np.sum(list(row[[\"misogyny_1\", \"misogyny_2\", \"misogyny_3\"]]))\n",
    "\n",
    "    data.loc[i, \"xenophobia\"] = np.sum(list(row[[\"xenophobia_1\", \"xenophobia_2\", \"xenophobia_3\"]]))\n",
    "        \n",
    "    if count >= 1:\n",
    "        data.loc[i, \"toxic\"] = 1"
   ]
  },
  {
   "cell_type": "code",
   "execution_count": 39,
   "metadata": {
    "ExecuteTime": {
     "end_time": "2020-09-21T15:36:43.042724Z",
     "start_time": "2020-09-21T15:36:43.016361Z"
    },
    "scrolled": true
   },
   "outputs": [
    {
     "data": {
      "text/html": [
       "<div>\n",
       "<style scoped>\n",
       "    .dataframe tbody tr th:only-of-type {\n",
       "        vertical-align: middle;\n",
       "    }\n",
       "\n",
       "    .dataframe tbody tr th {\n",
       "        vertical-align: top;\n",
       "    }\n",
       "\n",
       "    .dataframe thead th {\n",
       "        text-align: right;\n",
       "    }\n",
       "</style>\n",
       "<table border=\"1\" class=\"dataframe\">\n",
       "  <thead>\n",
       "    <tr style=\"text-align: right;\">\n",
       "      <th></th>\n",
       "      <th>text</th>\n",
       "      <th>toxic</th>\n",
       "      <th>homophobia</th>\n",
       "      <th>obscene</th>\n",
       "      <th>insult</th>\n",
       "      <th>racism</th>\n",
       "      <th>misogyny</th>\n",
       "      <th>xenophobia</th>\n",
       "    </tr>\n",
       "  </thead>\n",
       "  <tbody>\n",
       "    <tr>\n",
       "      <th>0</th>\n",
       "      <td>Meu nivel de amizade com isis é ela ter meu in...</td>\n",
       "      <td>1</td>\n",
       "      <td>0.0</td>\n",
       "      <td>0.0</td>\n",
       "      <td>2.0</td>\n",
       "      <td>0.0</td>\n",
       "      <td>0.0</td>\n",
       "      <td>0.0</td>\n",
       "    </tr>\n",
       "    <tr>\n",
       "      <th>1</th>\n",
       "      <td>rt @user @user o cara adultera dados, que fora...</td>\n",
       "      <td>1</td>\n",
       "      <td>0.0</td>\n",
       "      <td>0.0</td>\n",
       "      <td>1.0</td>\n",
       "      <td>0.0</td>\n",
       "      <td>0.0</td>\n",
       "      <td>0.0</td>\n",
       "    </tr>\n",
       "    <tr>\n",
       "      <th>2</th>\n",
       "      <td>@user @user @user o cara só é simplesmente o m...</td>\n",
       "      <td>1</td>\n",
       "      <td>0.0</td>\n",
       "      <td>2.0</td>\n",
       "      <td>1.0</td>\n",
       "      <td>0.0</td>\n",
       "      <td>0.0</td>\n",
       "      <td>0.0</td>\n",
       "    </tr>\n",
       "    <tr>\n",
       "      <th>3</th>\n",
       "      <td>eu to chorando vei vsf e eu nem staneio izone ...</td>\n",
       "      <td>1</td>\n",
       "      <td>0.0</td>\n",
       "      <td>1.0</td>\n",
       "      <td>0.0</td>\n",
       "      <td>0.0</td>\n",
       "      <td>0.0</td>\n",
       "      <td>0.0</td>\n",
       "    </tr>\n",
       "    <tr>\n",
       "      <th>4</th>\n",
       "      <td>Eleitor do Bolsonaro é tão ignorante q não per...</td>\n",
       "      <td>1</td>\n",
       "      <td>0.0</td>\n",
       "      <td>1.0</td>\n",
       "      <td>2.0</td>\n",
       "      <td>0.0</td>\n",
       "      <td>0.0</td>\n",
       "      <td>0.0</td>\n",
       "    </tr>\n",
       "    <tr>\n",
       "      <th>...</th>\n",
       "      <td>...</td>\n",
       "      <td>...</td>\n",
       "      <td>...</td>\n",
       "      <td>...</td>\n",
       "      <td>...</td>\n",
       "      <td>...</td>\n",
       "      <td>...</td>\n",
       "      <td>...</td>\n",
       "    </tr>\n",
       "    <tr>\n",
       "      <th>20995</th>\n",
       "      <td>@user faz favor vai carai</td>\n",
       "      <td>0</td>\n",
       "      <td>0.0</td>\n",
       "      <td>0.0</td>\n",
       "      <td>0.0</td>\n",
       "      <td>0.0</td>\n",
       "      <td>0.0</td>\n",
       "      <td>0.0</td>\n",
       "    </tr>\n",
       "    <tr>\n",
       "      <th>20996</th>\n",
       "      <td>só queria conhecer alguém que não conhece o he...</td>\n",
       "      <td>1</td>\n",
       "      <td>1.0</td>\n",
       "      <td>0.0</td>\n",
       "      <td>0.0</td>\n",
       "      <td>0.0</td>\n",
       "      <td>0.0</td>\n",
       "      <td>0.0</td>\n",
       "    </tr>\n",
       "    <tr>\n",
       "      <th>20997</th>\n",
       "      <td>vcs militam na hora errada em cima de memes, p...</td>\n",
       "      <td>0</td>\n",
       "      <td>0.0</td>\n",
       "      <td>0.0</td>\n",
       "      <td>0.0</td>\n",
       "      <td>0.0</td>\n",
       "      <td>0.0</td>\n",
       "      <td>0.0</td>\n",
       "    </tr>\n",
       "    <tr>\n",
       "      <th>20998</th>\n",
       "      <td>@user porra any eu tava c dor de cabeca e fui ...</td>\n",
       "      <td>0</td>\n",
       "      <td>0.0</td>\n",
       "      <td>0.0</td>\n",
       "      <td>0.0</td>\n",
       "      <td>0.0</td>\n",
       "      <td>0.0</td>\n",
       "      <td>0.0</td>\n",
       "    </tr>\n",
       "    <tr>\n",
       "      <th>20999</th>\n",
       "      <td>saudades da iasmin de 2017 eu era gótica demai...</td>\n",
       "      <td>0</td>\n",
       "      <td>0.0</td>\n",
       "      <td>0.0</td>\n",
       "      <td>0.0</td>\n",
       "      <td>0.0</td>\n",
       "      <td>0.0</td>\n",
       "      <td>0.0</td>\n",
       "    </tr>\n",
       "  </tbody>\n",
       "</table>\n",
       "<p>21000 rows × 8 columns</p>\n",
       "</div>"
      ],
      "text/plain": [
       "                                                    text  toxic  homophobia  \\\n",
       "0      Meu nivel de amizade com isis é ela ter meu in...      1         0.0   \n",
       "1      rt @user @user o cara adultera dados, que fora...      1         0.0   \n",
       "2      @user @user @user o cara só é simplesmente o m...      1         0.0   \n",
       "3      eu to chorando vei vsf e eu nem staneio izone ...      1         0.0   \n",
       "4      Eleitor do Bolsonaro é tão ignorante q não per...      1         0.0   \n",
       "...                                                  ...    ...         ...   \n",
       "20995                          @user faz favor vai carai      0         0.0   \n",
       "20996  só queria conhecer alguém que não conhece o he...      1         1.0   \n",
       "20997  vcs militam na hora errada em cima de memes, p...      0         0.0   \n",
       "20998  @user porra any eu tava c dor de cabeca e fui ...      0         0.0   \n",
       "20999  saudades da iasmin de 2017 eu era gótica demai...      0         0.0   \n",
       "\n",
       "       obscene  insult  racism  misogyny  xenophobia  \n",
       "0          0.0     2.0     0.0       0.0         0.0  \n",
       "1          0.0     1.0     0.0       0.0         0.0  \n",
       "2          2.0     1.0     0.0       0.0         0.0  \n",
       "3          1.0     0.0     0.0       0.0         0.0  \n",
       "4          1.0     2.0     0.0       0.0         0.0  \n",
       "...        ...     ...     ...       ...         ...  \n",
       "20995      0.0     0.0     0.0       0.0         0.0  \n",
       "20996      0.0     0.0     0.0       0.0         0.0  \n",
       "20997      0.0     0.0     0.0       0.0         0.0  \n",
       "20998      0.0     0.0     0.0       0.0         0.0  \n",
       "20999      0.0     0.0     0.0       0.0         0.0  \n",
       "\n",
       "[21000 rows x 8 columns]"
      ]
     },
     "execution_count": 39,
     "metadata": {},
     "output_type": "execute_result"
    }
   ],
   "source": [
    "data[[\"text\", \"toxic\", \"homophobia\", \"obscene\", \"insult\", \"racism\", \"misogyny\", \"xenophobia\"]]"
   ]
  },
  {
   "cell_type": "code",
   "execution_count": 41,
   "metadata": {
    "ExecuteTime": {
     "end_time": "2020-09-21T15:37:56.456014Z",
     "start_time": "2020-09-21T15:37:56.242259Z"
    }
   },
   "outputs": [],
   "source": [
    "data[[\"text\", \"homophobia\", \"obscene\", \"insult\", \"racism\", \"misogyny\", \"xenophobia\"]].to_csv(\"../data/told-br/ToLD-BR.csv\", index=False)"
   ]
  },
  {
   "cell_type": "code",
   "execution_count": 12,
   "metadata": {
    "ExecuteTime": {
     "end_time": "2020-06-21T14:58:40.663836Z",
     "start_time": "2020-06-21T14:58:40.651497Z"
    }
   },
   "outputs": [
    {
     "data": {
      "text/plain": [
       "0    11745\n",
       "1     9255\n",
       "Name: toxic, dtype: int64"
      ]
     },
     "execution_count": 12,
     "metadata": {},
     "output_type": "execute_result"
    }
   ],
   "source": [
    "data[[\"text\", \"toxic\"]][\"toxic\"].value_counts()"
   ]
  },
  {
   "cell_type": "code",
   "execution_count": null,
   "metadata": {},
   "outputs": [],
   "source": [
    "# Generate files for IAA using mwetoolkit3\n",
    "for category in [\"homophobia\", \"obscene\", \"insult\", \"racism\", \"misogyny\", \"xenophobia\"]:\n",
    "    final_df = pd.DataFrame(columns=range(0,42), index=range(21000))\n",
    "    j = 0\n",
    "    for i in range(0, 14):\n",
    "        df = data[[f\"{category}_1\", f\"{category}_2\", f\"{category}_3\"]].iloc[i*1500:1500*(i+1)]\n",
    "        for col in df:\n",
    "            final_df.iloc[i*1500:1500*(i+1), j] = df[col]\n",
    "            j += 1\n",
    "            \n",
    "    final_df.fillna(\"?\").to_csv(f\"{category}_alpha.tsv\", index=False, sep=\"\\t\")"
   ]
  },
  {
   "cell_type": "markdown",
   "metadata": {},
   "source": [
    "## Now run python mwetoolkit3/bin/kappa.py -i -r -c CATEGORY_alpha.tsv for each CATEGORY"
   ]
  }
 ],
 "metadata": {
  "kernelspec": {
   "display_name": "Python 3",
   "language": "python",
   "name": "python3"
  },
  "language_info": {
   "codemirror_mode": {
    "name": "ipython",
    "version": 3
   },
   "file_extension": ".py",
   "mimetype": "text/x-python",
   "name": "python",
   "nbconvert_exporter": "python",
   "pygments_lexer": "ipython3",
   "version": "3.8.3"
  }
 },
 "nbformat": 4,
 "nbformat_minor": 4
}
