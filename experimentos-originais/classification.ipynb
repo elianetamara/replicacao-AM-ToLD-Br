{
  "nbformat": 4,
  "nbformat_minor": 0,
  "metadata": {
    "colab": {
      "name": "toxic_classification",
      "provenance": [],
      "collapsed_sections": [],
      "toc_visible": true
    },
    "kernelspec": {
      "name": "python3",
      "display_name": "Python 3"
    },
    "accelerator": "GPU",
    "widgets": {
      "application/vnd.jupyter.widget-state+json": {
        "fcdfd05274cf48f684dffec24f994746": {
          "model_module": "@jupyter-widgets/controls",
          "model_name": "HBoxModel",
          "state": {
            "_view_name": "HBoxView",
            "_dom_classes": [],
            "_model_name": "HBoxModel",
            "_view_module": "@jupyter-widgets/controls",
            "_model_module_version": "1.5.0",
            "_view_count": null,
            "_view_module_version": "1.5.0",
            "box_style": "",
            "layout": "IPY_MODEL_271ce6ace38b40da920738a9f004d840",
            "_model_module": "@jupyter-widgets/controls",
            "children": [
              "IPY_MODEL_aa83981242094229802c367556051ea3",
              "IPY_MODEL_25b925cc6f184394a96075af08a98e5d"
            ]
          }
        },
        "271ce6ace38b40da920738a9f004d840": {
          "model_module": "@jupyter-widgets/base",
          "model_name": "LayoutModel",
          "state": {
            "_view_name": "LayoutView",
            "grid_template_rows": null,
            "right": null,
            "justify_content": null,
            "_view_module": "@jupyter-widgets/base",
            "overflow": null,
            "_model_module_version": "1.2.0",
            "_view_count": null,
            "flex_flow": null,
            "width": null,
            "min_width": null,
            "border": null,
            "align_items": null,
            "bottom": null,
            "_model_module": "@jupyter-widgets/base",
            "top": null,
            "grid_column": null,
            "overflow_y": null,
            "overflow_x": null,
            "grid_auto_flow": null,
            "grid_area": null,
            "grid_template_columns": null,
            "flex": null,
            "_model_name": "LayoutModel",
            "justify_items": null,
            "grid_row": null,
            "max_height": null,
            "align_content": null,
            "visibility": null,
            "align_self": null,
            "height": null,
            "min_height": null,
            "padding": null,
            "grid_auto_rows": null,
            "grid_gap": null,
            "max_width": null,
            "order": null,
            "_view_module_version": "1.2.0",
            "grid_template_areas": null,
            "object_position": null,
            "object_fit": null,
            "grid_auto_columns": null,
            "margin": null,
            "display": null,
            "left": null
          }
        },
        "aa83981242094229802c367556051ea3": {
          "model_module": "@jupyter-widgets/controls",
          "model_name": "FloatProgressModel",
          "state": {
            "_view_name": "ProgressView",
            "style": "IPY_MODEL_1c58a542c2554c20b094e02f0a84855d",
            "_dom_classes": [],
            "description": "Downloading: 100%",
            "_model_name": "FloatProgressModel",
            "bar_style": "success",
            "max": 625,
            "_view_module": "@jupyter-widgets/controls",
            "_model_module_version": "1.5.0",
            "value": 625,
            "_view_count": null,
            "_view_module_version": "1.5.0",
            "orientation": "horizontal",
            "min": 0,
            "description_tooltip": null,
            "_model_module": "@jupyter-widgets/controls",
            "layout": "IPY_MODEL_0e3887757d03455bbb5019feefa44de1"
          }
        },
        "25b925cc6f184394a96075af08a98e5d": {
          "model_module": "@jupyter-widgets/controls",
          "model_name": "HTMLModel",
          "state": {
            "_view_name": "HTMLView",
            "style": "IPY_MODEL_661a699f33d545c595c99f91f5c63707",
            "_dom_classes": [],
            "description": "",
            "_model_name": "HTMLModel",
            "placeholder": "​",
            "_view_module": "@jupyter-widgets/controls",
            "_model_module_version": "1.5.0",
            "value": " 625/625 [00:16&lt;00:00, 37.1B/s]",
            "_view_count": null,
            "_view_module_version": "1.5.0",
            "description_tooltip": null,
            "_model_module": "@jupyter-widgets/controls",
            "layout": "IPY_MODEL_1aecd72632a44715a66d8b12ec4e5d1a"
          }
        },
        "1c58a542c2554c20b094e02f0a84855d": {
          "model_module": "@jupyter-widgets/controls",
          "model_name": "ProgressStyleModel",
          "state": {
            "_view_name": "StyleView",
            "_model_name": "ProgressStyleModel",
            "description_width": "initial",
            "_view_module": "@jupyter-widgets/base",
            "_model_module_version": "1.5.0",
            "_view_count": null,
            "_view_module_version": "1.2.0",
            "bar_color": null,
            "_model_module": "@jupyter-widgets/controls"
          }
        },
        "0e3887757d03455bbb5019feefa44de1": {
          "model_module": "@jupyter-widgets/base",
          "model_name": "LayoutModel",
          "state": {
            "_view_name": "LayoutView",
            "grid_template_rows": null,
            "right": null,
            "justify_content": null,
            "_view_module": "@jupyter-widgets/base",
            "overflow": null,
            "_model_module_version": "1.2.0",
            "_view_count": null,
            "flex_flow": null,
            "width": null,
            "min_width": null,
            "border": null,
            "align_items": null,
            "bottom": null,
            "_model_module": "@jupyter-widgets/base",
            "top": null,
            "grid_column": null,
            "overflow_y": null,
            "overflow_x": null,
            "grid_auto_flow": null,
            "grid_area": null,
            "grid_template_columns": null,
            "flex": null,
            "_model_name": "LayoutModel",
            "justify_items": null,
            "grid_row": null,
            "max_height": null,
            "align_content": null,
            "visibility": null,
            "align_self": null,
            "height": null,
            "min_height": null,
            "padding": null,
            "grid_auto_rows": null,
            "grid_gap": null,
            "max_width": null,
            "order": null,
            "_view_module_version": "1.2.0",
            "grid_template_areas": null,
            "object_position": null,
            "object_fit": null,
            "grid_auto_columns": null,
            "margin": null,
            "display": null,
            "left": null
          }
        },
        "661a699f33d545c595c99f91f5c63707": {
          "model_module": "@jupyter-widgets/controls",
          "model_name": "DescriptionStyleModel",
          "state": {
            "_view_name": "StyleView",
            "_model_name": "DescriptionStyleModel",
            "description_width": "",
            "_view_module": "@jupyter-widgets/base",
            "_model_module_version": "1.5.0",
            "_view_count": null,
            "_view_module_version": "1.2.0",
            "_model_module": "@jupyter-widgets/controls"
          }
        },
        "1aecd72632a44715a66d8b12ec4e5d1a": {
          "model_module": "@jupyter-widgets/base",
          "model_name": "LayoutModel",
          "state": {
            "_view_name": "LayoutView",
            "grid_template_rows": null,
            "right": null,
            "justify_content": null,
            "_view_module": "@jupyter-widgets/base",
            "overflow": null,
            "_model_module_version": "1.2.0",
            "_view_count": null,
            "flex_flow": null,
            "width": null,
            "min_width": null,
            "border": null,
            "align_items": null,
            "bottom": null,
            "_model_module": "@jupyter-widgets/base",
            "top": null,
            "grid_column": null,
            "overflow_y": null,
            "overflow_x": null,
            "grid_auto_flow": null,
            "grid_area": null,
            "grid_template_columns": null,
            "flex": null,
            "_model_name": "LayoutModel",
            "justify_items": null,
            "grid_row": null,
            "max_height": null,
            "align_content": null,
            "visibility": null,
            "align_self": null,
            "height": null,
            "min_height": null,
            "padding": null,
            "grid_auto_rows": null,
            "grid_gap": null,
            "max_width": null,
            "order": null,
            "_view_module_version": "1.2.0",
            "grid_template_areas": null,
            "object_position": null,
            "object_fit": null,
            "grid_auto_columns": null,
            "margin": null,
            "display": null,
            "left": null
          }
        },
        "c208838244bb4489920129b97e356391": {
          "model_module": "@jupyter-widgets/controls",
          "model_name": "HBoxModel",
          "state": {
            "_view_name": "HBoxView",
            "_dom_classes": [],
            "_model_name": "HBoxModel",
            "_view_module": "@jupyter-widgets/controls",
            "_model_module_version": "1.5.0",
            "_view_count": null,
            "_view_module_version": "1.5.0",
            "box_style": "",
            "layout": "IPY_MODEL_cb9020e3784441649f02d07191c6caac",
            "_model_module": "@jupyter-widgets/controls",
            "children": [
              "IPY_MODEL_871c401f486b46138e50101f6ab594b2",
              "IPY_MODEL_0c720c2689d4478d91d11525920ca873"
            ]
          }
        },
        "cb9020e3784441649f02d07191c6caac": {
          "model_module": "@jupyter-widgets/base",
          "model_name": "LayoutModel",
          "state": {
            "_view_name": "LayoutView",
            "grid_template_rows": null,
            "right": null,
            "justify_content": null,
            "_view_module": "@jupyter-widgets/base",
            "overflow": null,
            "_model_module_version": "1.2.0",
            "_view_count": null,
            "flex_flow": null,
            "width": null,
            "min_width": null,
            "border": null,
            "align_items": null,
            "bottom": null,
            "_model_module": "@jupyter-widgets/base",
            "top": null,
            "grid_column": null,
            "overflow_y": null,
            "overflow_x": null,
            "grid_auto_flow": null,
            "grid_area": null,
            "grid_template_columns": null,
            "flex": null,
            "_model_name": "LayoutModel",
            "justify_items": null,
            "grid_row": null,
            "max_height": null,
            "align_content": null,
            "visibility": null,
            "align_self": null,
            "height": null,
            "min_height": null,
            "padding": null,
            "grid_auto_rows": null,
            "grid_gap": null,
            "max_width": null,
            "order": null,
            "_view_module_version": "1.2.0",
            "grid_template_areas": null,
            "object_position": null,
            "object_fit": null,
            "grid_auto_columns": null,
            "margin": null,
            "display": null,
            "left": null
          }
        },
        "871c401f486b46138e50101f6ab594b2": {
          "model_module": "@jupyter-widgets/controls",
          "model_name": "FloatProgressModel",
          "state": {
            "_view_name": "ProgressView",
            "style": "IPY_MODEL_b7a256b5a8b44007b59982c1ca714549",
            "_dom_classes": [],
            "description": "Downloading: 100%",
            "_model_name": "FloatProgressModel",
            "bar_style": "success",
            "max": 714314041,
            "_view_module": "@jupyter-widgets/controls",
            "_model_module_version": "1.5.0",
            "value": 714314041,
            "_view_count": null,
            "_view_module_version": "1.5.0",
            "orientation": "horizontal",
            "min": 0,
            "description_tooltip": null,
            "_model_module": "@jupyter-widgets/controls",
            "layout": "IPY_MODEL_702d86885f6a4ef18c72e8c323dcb98f"
          }
        },
        "0c720c2689d4478d91d11525920ca873": {
          "model_module": "@jupyter-widgets/controls",
          "model_name": "HTMLModel",
          "state": {
            "_view_name": "HTMLView",
            "style": "IPY_MODEL_3f43afc31cce4e0e9a9afa4c177013c2",
            "_dom_classes": [],
            "description": "",
            "_model_name": "HTMLModel",
            "placeholder": "​",
            "_view_module": "@jupyter-widgets/controls",
            "_model_module_version": "1.5.0",
            "value": " 714M/714M [00:10&lt;00:00, 69.1MB/s]",
            "_view_count": null,
            "_view_module_version": "1.5.0",
            "description_tooltip": null,
            "_model_module": "@jupyter-widgets/controls",
            "layout": "IPY_MODEL_1281be6f560e4f49b097b13fa5b47781"
          }
        },
        "b7a256b5a8b44007b59982c1ca714549": {
          "model_module": "@jupyter-widgets/controls",
          "model_name": "ProgressStyleModel",
          "state": {
            "_view_name": "StyleView",
            "_model_name": "ProgressStyleModel",
            "description_width": "initial",
            "_view_module": "@jupyter-widgets/base",
            "_model_module_version": "1.5.0",
            "_view_count": null,
            "_view_module_version": "1.2.0",
            "bar_color": null,
            "_model_module": "@jupyter-widgets/controls"
          }
        },
        "702d86885f6a4ef18c72e8c323dcb98f": {
          "model_module": "@jupyter-widgets/base",
          "model_name": "LayoutModel",
          "state": {
            "_view_name": "LayoutView",
            "grid_template_rows": null,
            "right": null,
            "justify_content": null,
            "_view_module": "@jupyter-widgets/base",
            "overflow": null,
            "_model_module_version": "1.2.0",
            "_view_count": null,
            "flex_flow": null,
            "width": null,
            "min_width": null,
            "border": null,
            "align_items": null,
            "bottom": null,
            "_model_module": "@jupyter-widgets/base",
            "top": null,
            "grid_column": null,
            "overflow_y": null,
            "overflow_x": null,
            "grid_auto_flow": null,
            "grid_area": null,
            "grid_template_columns": null,
            "flex": null,
            "_model_name": "LayoutModel",
            "justify_items": null,
            "grid_row": null,
            "max_height": null,
            "align_content": null,
            "visibility": null,
            "align_self": null,
            "height": null,
            "min_height": null,
            "padding": null,
            "grid_auto_rows": null,
            "grid_gap": null,
            "max_width": null,
            "order": null,
            "_view_module_version": "1.2.0",
            "grid_template_areas": null,
            "object_position": null,
            "object_fit": null,
            "grid_auto_columns": null,
            "margin": null,
            "display": null,
            "left": null
          }
        },
        "3f43afc31cce4e0e9a9afa4c177013c2": {
          "model_module": "@jupyter-widgets/controls",
          "model_name": "DescriptionStyleModel",
          "state": {
            "_view_name": "StyleView",
            "_model_name": "DescriptionStyleModel",
            "description_width": "",
            "_view_module": "@jupyter-widgets/base",
            "_model_module_version": "1.5.0",
            "_view_count": null,
            "_view_module_version": "1.2.0",
            "_model_module": "@jupyter-widgets/controls"
          }
        },
        "1281be6f560e4f49b097b13fa5b47781": {
          "model_module": "@jupyter-widgets/base",
          "model_name": "LayoutModel",
          "state": {
            "_view_name": "LayoutView",
            "grid_template_rows": null,
            "right": null,
            "justify_content": null,
            "_view_module": "@jupyter-widgets/base",
            "overflow": null,
            "_model_module_version": "1.2.0",
            "_view_count": null,
            "flex_flow": null,
            "width": null,
            "min_width": null,
            "border": null,
            "align_items": null,
            "bottom": null,
            "_model_module": "@jupyter-widgets/base",
            "top": null,
            "grid_column": null,
            "overflow_y": null,
            "overflow_x": null,
            "grid_auto_flow": null,
            "grid_area": null,
            "grid_template_columns": null,
            "flex": null,
            "_model_name": "LayoutModel",
            "justify_items": null,
            "grid_row": null,
            "max_height": null,
            "align_content": null,
            "visibility": null,
            "align_self": null,
            "height": null,
            "min_height": null,
            "padding": null,
            "grid_auto_rows": null,
            "grid_gap": null,
            "max_width": null,
            "order": null,
            "_view_module_version": "1.2.0",
            "grid_template_areas": null,
            "object_position": null,
            "object_fit": null,
            "grid_auto_columns": null,
            "margin": null,
            "display": null,
            "left": null
          }
        },
        "aaf1406322e348489da3ee62e4bbd272": {
          "model_module": "@jupyter-widgets/controls",
          "model_name": "HBoxModel",
          "state": {
            "_view_name": "HBoxView",
            "_dom_classes": [],
            "_model_name": "HBoxModel",
            "_view_module": "@jupyter-widgets/controls",
            "_model_module_version": "1.5.0",
            "_view_count": null,
            "_view_module_version": "1.5.0",
            "box_style": "",
            "layout": "IPY_MODEL_f979fe3289fd4ea2a1c645d4e07b6691",
            "_model_module": "@jupyter-widgets/controls",
            "children": [
              "IPY_MODEL_b3765a9f2a214c109467dcf9e6b72f04",
              "IPY_MODEL_9c219464113f4a3caf09d25b017c774c"
            ]
          }
        },
        "f979fe3289fd4ea2a1c645d4e07b6691": {
          "model_module": "@jupyter-widgets/base",
          "model_name": "LayoutModel",
          "state": {
            "_view_name": "LayoutView",
            "grid_template_rows": null,
            "right": null,
            "justify_content": null,
            "_view_module": "@jupyter-widgets/base",
            "overflow": null,
            "_model_module_version": "1.2.0",
            "_view_count": null,
            "flex_flow": null,
            "width": null,
            "min_width": null,
            "border": null,
            "align_items": null,
            "bottom": null,
            "_model_module": "@jupyter-widgets/base",
            "top": null,
            "grid_column": null,
            "overflow_y": null,
            "overflow_x": null,
            "grid_auto_flow": null,
            "grid_area": null,
            "grid_template_columns": null,
            "flex": null,
            "_model_name": "LayoutModel",
            "justify_items": null,
            "grid_row": null,
            "max_height": null,
            "align_content": null,
            "visibility": null,
            "align_self": null,
            "height": null,
            "min_height": null,
            "padding": null,
            "grid_auto_rows": null,
            "grid_gap": null,
            "max_width": null,
            "order": null,
            "_view_module_version": "1.2.0",
            "grid_template_areas": null,
            "object_position": null,
            "object_fit": null,
            "grid_auto_columns": null,
            "margin": null,
            "display": null,
            "left": null
          }
        },
        "b3765a9f2a214c109467dcf9e6b72f04": {
          "model_module": "@jupyter-widgets/controls",
          "model_name": "FloatProgressModel",
          "state": {
            "_view_name": "ProgressView",
            "style": "IPY_MODEL_8969084a147e4ebb9b8a8488aef80aac",
            "_dom_classes": [],
            "description": "Downloading: 100%",
            "_model_name": "FloatProgressModel",
            "bar_style": "success",
            "max": 995526,
            "_view_module": "@jupyter-widgets/controls",
            "_model_module_version": "1.5.0",
            "value": 995526,
            "_view_count": null,
            "_view_module_version": "1.5.0",
            "orientation": "horizontal",
            "min": 0,
            "description_tooltip": null,
            "_model_module": "@jupyter-widgets/controls",
            "layout": "IPY_MODEL_d8f9b22838784484b43185f52545fb75"
          }
        },
        "9c219464113f4a3caf09d25b017c774c": {
          "model_module": "@jupyter-widgets/controls",
          "model_name": "HTMLModel",
          "state": {
            "_view_name": "HTMLView",
            "style": "IPY_MODEL_1eb19ffb71184d0ba2bf633a2311fb60",
            "_dom_classes": [],
            "description": "",
            "_model_name": "HTMLModel",
            "placeholder": "​",
            "_view_module": "@jupyter-widgets/controls",
            "_model_module_version": "1.5.0",
            "value": " 996k/996k [00:00&lt;00:00, 1.53MB/s]",
            "_view_count": null,
            "_view_module_version": "1.5.0",
            "description_tooltip": null,
            "_model_module": "@jupyter-widgets/controls",
            "layout": "IPY_MODEL_71a36ae2043f4240acd8865401adf27e"
          }
        },
        "8969084a147e4ebb9b8a8488aef80aac": {
          "model_module": "@jupyter-widgets/controls",
          "model_name": "ProgressStyleModel",
          "state": {
            "_view_name": "StyleView",
            "_model_name": "ProgressStyleModel",
            "description_width": "initial",
            "_view_module": "@jupyter-widgets/base",
            "_model_module_version": "1.5.0",
            "_view_count": null,
            "_view_module_version": "1.2.0",
            "bar_color": null,
            "_model_module": "@jupyter-widgets/controls"
          }
        },
        "d8f9b22838784484b43185f52545fb75": {
          "model_module": "@jupyter-widgets/base",
          "model_name": "LayoutModel",
          "state": {
            "_view_name": "LayoutView",
            "grid_template_rows": null,
            "right": null,
            "justify_content": null,
            "_view_module": "@jupyter-widgets/base",
            "overflow": null,
            "_model_module_version": "1.2.0",
            "_view_count": null,
            "flex_flow": null,
            "width": null,
            "min_width": null,
            "border": null,
            "align_items": null,
            "bottom": null,
            "_model_module": "@jupyter-widgets/base",
            "top": null,
            "grid_column": null,
            "overflow_y": null,
            "overflow_x": null,
            "grid_auto_flow": null,
            "grid_area": null,
            "grid_template_columns": null,
            "flex": null,
            "_model_name": "LayoutModel",
            "justify_items": null,
            "grid_row": null,
            "max_height": null,
            "align_content": null,
            "visibility": null,
            "align_self": null,
            "height": null,
            "min_height": null,
            "padding": null,
            "grid_auto_rows": null,
            "grid_gap": null,
            "max_width": null,
            "order": null,
            "_view_module_version": "1.2.0",
            "grid_template_areas": null,
            "object_position": null,
            "object_fit": null,
            "grid_auto_columns": null,
            "margin": null,
            "display": null,
            "left": null
          }
        },
        "1eb19ffb71184d0ba2bf633a2311fb60": {
          "model_module": "@jupyter-widgets/controls",
          "model_name": "DescriptionStyleModel",
          "state": {
            "_view_name": "StyleView",
            "_model_name": "DescriptionStyleModel",
            "description_width": "",
            "_view_module": "@jupyter-widgets/base",
            "_model_module_version": "1.5.0",
            "_view_count": null,
            "_view_module_version": "1.2.0",
            "_model_module": "@jupyter-widgets/controls"
          }
        },
        "71a36ae2043f4240acd8865401adf27e": {
          "model_module": "@jupyter-widgets/base",
          "model_name": "LayoutModel",
          "state": {
            "_view_name": "LayoutView",
            "grid_template_rows": null,
            "right": null,
            "justify_content": null,
            "_view_module": "@jupyter-widgets/base",
            "overflow": null,
            "_model_module_version": "1.2.0",
            "_view_count": null,
            "flex_flow": null,
            "width": null,
            "min_width": null,
            "border": null,
            "align_items": null,
            "bottom": null,
            "_model_module": "@jupyter-widgets/base",
            "top": null,
            "grid_column": null,
            "overflow_y": null,
            "overflow_x": null,
            "grid_auto_flow": null,
            "grid_area": null,
            "grid_template_columns": null,
            "flex": null,
            "_model_name": "LayoutModel",
            "justify_items": null,
            "grid_row": null,
            "max_height": null,
            "align_content": null,
            "visibility": null,
            "align_self": null,
            "height": null,
            "min_height": null,
            "padding": null,
            "grid_auto_rows": null,
            "grid_gap": null,
            "max_width": null,
            "order": null,
            "_view_module_version": "1.2.0",
            "grid_template_areas": null,
            "object_position": null,
            "object_fit": null,
            "grid_auto_columns": null,
            "margin": null,
            "display": null,
            "left": null
          }
        },
        "e8adbed943bc4fd0a1d4ed2f9caec636": {
          "model_module": "@jupyter-widgets/controls",
          "model_name": "HBoxModel",
          "state": {
            "_view_name": "HBoxView",
            "_dom_classes": [],
            "_model_name": "HBoxModel",
            "_view_module": "@jupyter-widgets/controls",
            "_model_module_version": "1.5.0",
            "_view_count": null,
            "_view_module_version": "1.5.0",
            "box_style": "",
            "layout": "IPY_MODEL_237686386d114bef9b5fecf124465ff6",
            "_model_module": "@jupyter-widgets/controls",
            "children": [
              "IPY_MODEL_571a603967d145beb283d6c2ff1f36e1",
              "IPY_MODEL_34f3394c3b164de7a9349a9efac51a32"
            ]
          }
        },
        "237686386d114bef9b5fecf124465ff6": {
          "model_module": "@jupyter-widgets/base",
          "model_name": "LayoutModel",
          "state": {
            "_view_name": "LayoutView",
            "grid_template_rows": null,
            "right": null,
            "justify_content": null,
            "_view_module": "@jupyter-widgets/base",
            "overflow": null,
            "_model_module_version": "1.2.0",
            "_view_count": null,
            "flex_flow": null,
            "width": null,
            "min_width": null,
            "border": null,
            "align_items": null,
            "bottom": null,
            "_model_module": "@jupyter-widgets/base",
            "top": null,
            "grid_column": null,
            "overflow_y": null,
            "overflow_x": null,
            "grid_auto_flow": null,
            "grid_area": null,
            "grid_template_columns": null,
            "flex": null,
            "_model_name": "LayoutModel",
            "justify_items": null,
            "grid_row": null,
            "max_height": null,
            "align_content": null,
            "visibility": null,
            "align_self": null,
            "height": null,
            "min_height": null,
            "padding": null,
            "grid_auto_rows": null,
            "grid_gap": null,
            "max_width": null,
            "order": null,
            "_view_module_version": "1.2.0",
            "grid_template_areas": null,
            "object_position": null,
            "object_fit": null,
            "grid_auto_columns": null,
            "margin": null,
            "display": null,
            "left": null
          }
        },
        "571a603967d145beb283d6c2ff1f36e1": {
          "model_module": "@jupyter-widgets/controls",
          "model_name": "FloatProgressModel",
          "state": {
            "_view_name": "ProgressView",
            "style": "IPY_MODEL_bdba141c5f824ec8aaafb9ac7799aad1",
            "_dom_classes": [],
            "description": "100%",
            "_model_name": "FloatProgressModel",
            "bar_style": "success",
            "max": 18900,
            "_view_module": "@jupyter-widgets/controls",
            "_model_module_version": "1.5.0",
            "value": 18900,
            "_view_count": null,
            "_view_module_version": "1.5.0",
            "orientation": "horizontal",
            "min": 0,
            "description_tooltip": null,
            "_model_module": "@jupyter-widgets/controls",
            "layout": "IPY_MODEL_268bb66532764403b7366d115e8e7b9f"
          }
        },
        "34f3394c3b164de7a9349a9efac51a32": {
          "model_module": "@jupyter-widgets/controls",
          "model_name": "HTMLModel",
          "state": {
            "_view_name": "HTMLView",
            "style": "IPY_MODEL_14d97096045a4068a8d7357cb05e51c1",
            "_dom_classes": [],
            "description": "",
            "_model_name": "HTMLModel",
            "placeholder": "​",
            "_view_module": "@jupyter-widgets/controls",
            "_model_module_version": "1.5.0",
            "value": " 18900/18900 [02:14&lt;00:00, 140.01it/s]",
            "_view_count": null,
            "_view_module_version": "1.5.0",
            "description_tooltip": null,
            "_model_module": "@jupyter-widgets/controls",
            "layout": "IPY_MODEL_d5f7737064234313a4dfbd1b44930f55"
          }
        },
        "bdba141c5f824ec8aaafb9ac7799aad1": {
          "model_module": "@jupyter-widgets/controls",
          "model_name": "ProgressStyleModel",
          "state": {
            "_view_name": "StyleView",
            "_model_name": "ProgressStyleModel",
            "description_width": "initial",
            "_view_module": "@jupyter-widgets/base",
            "_model_module_version": "1.5.0",
            "_view_count": null,
            "_view_module_version": "1.2.0",
            "bar_color": null,
            "_model_module": "@jupyter-widgets/controls"
          }
        },
        "268bb66532764403b7366d115e8e7b9f": {
          "model_module": "@jupyter-widgets/base",
          "model_name": "LayoutModel",
          "state": {
            "_view_name": "LayoutView",
            "grid_template_rows": null,
            "right": null,
            "justify_content": null,
            "_view_module": "@jupyter-widgets/base",
            "overflow": null,
            "_model_module_version": "1.2.0",
            "_view_count": null,
            "flex_flow": null,
            "width": null,
            "min_width": null,
            "border": null,
            "align_items": null,
            "bottom": null,
            "_model_module": "@jupyter-widgets/base",
            "top": null,
            "grid_column": null,
            "overflow_y": null,
            "overflow_x": null,
            "grid_auto_flow": null,
            "grid_area": null,
            "grid_template_columns": null,
            "flex": null,
            "_model_name": "LayoutModel",
            "justify_items": null,
            "grid_row": null,
            "max_height": null,
            "align_content": null,
            "visibility": null,
            "align_self": null,
            "height": null,
            "min_height": null,
            "padding": null,
            "grid_auto_rows": null,
            "grid_gap": null,
            "max_width": null,
            "order": null,
            "_view_module_version": "1.2.0",
            "grid_template_areas": null,
            "object_position": null,
            "object_fit": null,
            "grid_auto_columns": null,
            "margin": null,
            "display": null,
            "left": null
          }
        },
        "14d97096045a4068a8d7357cb05e51c1": {
          "model_module": "@jupyter-widgets/controls",
          "model_name": "DescriptionStyleModel",
          "state": {
            "_view_name": "StyleView",
            "_model_name": "DescriptionStyleModel",
            "description_width": "",
            "_view_module": "@jupyter-widgets/base",
            "_model_module_version": "1.5.0",
            "_view_count": null,
            "_view_module_version": "1.2.0",
            "_model_module": "@jupyter-widgets/controls"
          }
        },
        "d5f7737064234313a4dfbd1b44930f55": {
          "model_module": "@jupyter-widgets/base",
          "model_name": "LayoutModel",
          "state": {
            "_view_name": "LayoutView",
            "grid_template_rows": null,
            "right": null,
            "justify_content": null,
            "_view_module": "@jupyter-widgets/base",
            "overflow": null,
            "_model_module_version": "1.2.0",
            "_view_count": null,
            "flex_flow": null,
            "width": null,
            "min_width": null,
            "border": null,
            "align_items": null,
            "bottom": null,
            "_model_module": "@jupyter-widgets/base",
            "top": null,
            "grid_column": null,
            "overflow_y": null,
            "overflow_x": null,
            "grid_auto_flow": null,
            "grid_area": null,
            "grid_template_columns": null,
            "flex": null,
            "_model_name": "LayoutModel",
            "justify_items": null,
            "grid_row": null,
            "max_height": null,
            "align_content": null,
            "visibility": null,
            "align_self": null,
            "height": null,
            "min_height": null,
            "padding": null,
            "grid_auto_rows": null,
            "grid_gap": null,
            "max_width": null,
            "order": null,
            "_view_module_version": "1.2.0",
            "grid_template_areas": null,
            "object_position": null,
            "object_fit": null,
            "grid_auto_columns": null,
            "margin": null,
            "display": null,
            "left": null
          }
        },
        "f783530cb3d84669b9ff33beeed8a0ab": {
          "model_module": "@jupyter-widgets/controls",
          "model_name": "HBoxModel",
          "state": {
            "_view_name": "HBoxView",
            "_dom_classes": [],
            "_model_name": "HBoxModel",
            "_view_module": "@jupyter-widgets/controls",
            "_model_module_version": "1.5.0",
            "_view_count": null,
            "_view_module_version": "1.5.0",
            "box_style": "",
            "layout": "IPY_MODEL_727f070fd98a4b28a6aad78f7d77dc79",
            "_model_module": "@jupyter-widgets/controls",
            "children": [
              "IPY_MODEL_b9c0356f4d654e2eaa0e11e9848d173f",
              "IPY_MODEL_681d05ce85104521887b88dcc6533a73"
            ]
          }
        },
        "727f070fd98a4b28a6aad78f7d77dc79": {
          "model_module": "@jupyter-widgets/base",
          "model_name": "LayoutModel",
          "state": {
            "_view_name": "LayoutView",
            "grid_template_rows": null,
            "right": null,
            "justify_content": null,
            "_view_module": "@jupyter-widgets/base",
            "overflow": null,
            "_model_module_version": "1.2.0",
            "_view_count": null,
            "flex_flow": null,
            "width": null,
            "min_width": null,
            "border": null,
            "align_items": null,
            "bottom": null,
            "_model_module": "@jupyter-widgets/base",
            "top": null,
            "grid_column": null,
            "overflow_y": null,
            "overflow_x": null,
            "grid_auto_flow": null,
            "grid_area": null,
            "grid_template_columns": null,
            "flex": null,
            "_model_name": "LayoutModel",
            "justify_items": null,
            "grid_row": null,
            "max_height": null,
            "align_content": null,
            "visibility": null,
            "align_self": null,
            "height": null,
            "min_height": null,
            "padding": null,
            "grid_auto_rows": null,
            "grid_gap": null,
            "max_width": null,
            "order": null,
            "_view_module_version": "1.2.0",
            "grid_template_areas": null,
            "object_position": null,
            "object_fit": null,
            "grid_auto_columns": null,
            "margin": null,
            "display": null,
            "left": null
          }
        },
        "b9c0356f4d654e2eaa0e11e9848d173f": {
          "model_module": "@jupyter-widgets/controls",
          "model_name": "FloatProgressModel",
          "state": {
            "_view_name": "ProgressView",
            "style": "IPY_MODEL_10127d763a664834a8b8ef6590cd90fc",
            "_dom_classes": [],
            "description": "Epoch 3 of 3: 100%",
            "_model_name": "FloatProgressModel",
            "bar_style": "success",
            "max": 3,
            "_view_module": "@jupyter-widgets/controls",
            "_model_module_version": "1.5.0",
            "value": 3,
            "_view_count": null,
            "_view_module_version": "1.5.0",
            "orientation": "horizontal",
            "min": 0,
            "description_tooltip": null,
            "_model_module": "@jupyter-widgets/controls",
            "layout": "IPY_MODEL_391c3033a5ec443fb8d729e6502092a4"
          }
        },
        "681d05ce85104521887b88dcc6533a73": {
          "model_module": "@jupyter-widgets/controls",
          "model_name": "HTMLModel",
          "state": {
            "_view_name": "HTMLView",
            "style": "IPY_MODEL_91915e7e0d624923beccf099a46e3561",
            "_dom_classes": [],
            "description": "",
            "_model_name": "HTMLModel",
            "placeholder": "​",
            "_view_module": "@jupyter-widgets/controls",
            "_model_module_version": "1.5.0",
            "value": " 3/3 [40:11&lt;00:00, 803.75s/it]",
            "_view_count": null,
            "_view_module_version": "1.5.0",
            "description_tooltip": null,
            "_model_module": "@jupyter-widgets/controls",
            "layout": "IPY_MODEL_4974043bcfc749d0bc5e0462752e7a78"
          }
        },
        "10127d763a664834a8b8ef6590cd90fc": {
          "model_module": "@jupyter-widgets/controls",
          "model_name": "ProgressStyleModel",
          "state": {
            "_view_name": "StyleView",
            "_model_name": "ProgressStyleModel",
            "description_width": "initial",
            "_view_module": "@jupyter-widgets/base",
            "_model_module_version": "1.5.0",
            "_view_count": null,
            "_view_module_version": "1.2.0",
            "bar_color": null,
            "_model_module": "@jupyter-widgets/controls"
          }
        },
        "391c3033a5ec443fb8d729e6502092a4": {
          "model_module": "@jupyter-widgets/base",
          "model_name": "LayoutModel",
          "state": {
            "_view_name": "LayoutView",
            "grid_template_rows": null,
            "right": null,
            "justify_content": null,
            "_view_module": "@jupyter-widgets/base",
            "overflow": null,
            "_model_module_version": "1.2.0",
            "_view_count": null,
            "flex_flow": null,
            "width": null,
            "min_width": null,
            "border": null,
            "align_items": null,
            "bottom": null,
            "_model_module": "@jupyter-widgets/base",
            "top": null,
            "grid_column": null,
            "overflow_y": null,
            "overflow_x": null,
            "grid_auto_flow": null,
            "grid_area": null,
            "grid_template_columns": null,
            "flex": null,
            "_model_name": "LayoutModel",
            "justify_items": null,
            "grid_row": null,
            "max_height": null,
            "align_content": null,
            "visibility": null,
            "align_self": null,
            "height": null,
            "min_height": null,
            "padding": null,
            "grid_auto_rows": null,
            "grid_gap": null,
            "max_width": null,
            "order": null,
            "_view_module_version": "1.2.0",
            "grid_template_areas": null,
            "object_position": null,
            "object_fit": null,
            "grid_auto_columns": null,
            "margin": null,
            "display": null,
            "left": null
          }
        },
        "91915e7e0d624923beccf099a46e3561": {
          "model_module": "@jupyter-widgets/controls",
          "model_name": "DescriptionStyleModel",
          "state": {
            "_view_name": "StyleView",
            "_model_name": "DescriptionStyleModel",
            "description_width": "",
            "_view_module": "@jupyter-widgets/base",
            "_model_module_version": "1.5.0",
            "_view_count": null,
            "_view_module_version": "1.2.0",
            "_model_module": "@jupyter-widgets/controls"
          }
        },
        "4974043bcfc749d0bc5e0462752e7a78": {
          "model_module": "@jupyter-widgets/base",
          "model_name": "LayoutModel",
          "state": {
            "_view_name": "LayoutView",
            "grid_template_rows": null,
            "right": null,
            "justify_content": null,
            "_view_module": "@jupyter-widgets/base",
            "overflow": null,
            "_model_module_version": "1.2.0",
            "_view_count": null,
            "flex_flow": null,
            "width": null,
            "min_width": null,
            "border": null,
            "align_items": null,
            "bottom": null,
            "_model_module": "@jupyter-widgets/base",
            "top": null,
            "grid_column": null,
            "overflow_y": null,
            "overflow_x": null,
            "grid_auto_flow": null,
            "grid_area": null,
            "grid_template_columns": null,
            "flex": null,
            "_model_name": "LayoutModel",
            "justify_items": null,
            "grid_row": null,
            "max_height": null,
            "align_content": null,
            "visibility": null,
            "align_self": null,
            "height": null,
            "min_height": null,
            "padding": null,
            "grid_auto_rows": null,
            "grid_gap": null,
            "max_width": null,
            "order": null,
            "_view_module_version": "1.2.0",
            "grid_template_areas": null,
            "object_position": null,
            "object_fit": null,
            "grid_auto_columns": null,
            "margin": null,
            "display": null,
            "left": null
          }
        },
        "e7fe0b53e1854dd8b04981331a54bc0e": {
          "model_module": "@jupyter-widgets/controls",
          "model_name": "HBoxModel",
          "state": {
            "_view_name": "HBoxView",
            "_dom_classes": [],
            "_model_name": "HBoxModel",
            "_view_module": "@jupyter-widgets/controls",
            "_model_module_version": "1.5.0",
            "_view_count": null,
            "_view_module_version": "1.5.0",
            "box_style": "",
            "layout": "IPY_MODEL_1642f8829a1e4084852cea05eb01c4a5",
            "_model_module": "@jupyter-widgets/controls",
            "children": [
              "IPY_MODEL_ce4499582b524c509033c61085da8d3d",
              "IPY_MODEL_279dfdcd24104b328334e028b0f2ac2a"
            ]
          }
        },
        "1642f8829a1e4084852cea05eb01c4a5": {
          "model_module": "@jupyter-widgets/base",
          "model_name": "LayoutModel",
          "state": {
            "_view_name": "LayoutView",
            "grid_template_rows": null,
            "right": null,
            "justify_content": null,
            "_view_module": "@jupyter-widgets/base",
            "overflow": null,
            "_model_module_version": "1.2.0",
            "_view_count": null,
            "flex_flow": null,
            "width": null,
            "min_width": null,
            "border": null,
            "align_items": null,
            "bottom": null,
            "_model_module": "@jupyter-widgets/base",
            "top": null,
            "grid_column": null,
            "overflow_y": null,
            "overflow_x": null,
            "grid_auto_flow": null,
            "grid_area": null,
            "grid_template_columns": null,
            "flex": null,
            "_model_name": "LayoutModel",
            "justify_items": null,
            "grid_row": null,
            "max_height": null,
            "align_content": null,
            "visibility": null,
            "align_self": null,
            "height": null,
            "min_height": null,
            "padding": null,
            "grid_auto_rows": null,
            "grid_gap": null,
            "max_width": null,
            "order": null,
            "_view_module_version": "1.2.0",
            "grid_template_areas": null,
            "object_position": null,
            "object_fit": null,
            "grid_auto_columns": null,
            "margin": null,
            "display": null,
            "left": null
          }
        },
        "ce4499582b524c509033c61085da8d3d": {
          "model_module": "@jupyter-widgets/controls",
          "model_name": "FloatProgressModel",
          "state": {
            "_view_name": "ProgressView",
            "style": "IPY_MODEL_d97150f4d53244eeba8d0bffd0598aec",
            "_dom_classes": [],
            "description": "Running Epoch 0: 100%",
            "_model_name": "FloatProgressModel",
            "bar_style": "success",
            "max": 2363,
            "_view_module": "@jupyter-widgets/controls",
            "_model_module_version": "1.5.0",
            "value": 2363,
            "_view_count": null,
            "_view_module_version": "1.5.0",
            "orientation": "horizontal",
            "min": 0,
            "description_tooltip": null,
            "_model_module": "@jupyter-widgets/controls",
            "layout": "IPY_MODEL_3669f03152624269a5309cf953882c75"
          }
        },
        "279dfdcd24104b328334e028b0f2ac2a": {
          "model_module": "@jupyter-widgets/controls",
          "model_name": "HTMLModel",
          "state": {
            "_view_name": "HTMLView",
            "style": "IPY_MODEL_526c8edeb16f45348b32333162b6b23d",
            "_dom_classes": [],
            "description": "",
            "_model_name": "HTMLModel",
            "placeholder": "​",
            "_view_module": "@jupyter-widgets/controls",
            "_model_module_version": "1.5.0",
            "value": " 2363/2363 [20:24&lt;00:00,  1.93it/s]",
            "_view_count": null,
            "_view_module_version": "1.5.0",
            "description_tooltip": null,
            "_model_module": "@jupyter-widgets/controls",
            "layout": "IPY_MODEL_0aa0763eda8e435ab7d2e2acabe2b758"
          }
        },
        "d97150f4d53244eeba8d0bffd0598aec": {
          "model_module": "@jupyter-widgets/controls",
          "model_name": "ProgressStyleModel",
          "state": {
            "_view_name": "StyleView",
            "_model_name": "ProgressStyleModel",
            "description_width": "initial",
            "_view_module": "@jupyter-widgets/base",
            "_model_module_version": "1.5.0",
            "_view_count": null,
            "_view_module_version": "1.2.0",
            "bar_color": null,
            "_model_module": "@jupyter-widgets/controls"
          }
        },
        "3669f03152624269a5309cf953882c75": {
          "model_module": "@jupyter-widgets/base",
          "model_name": "LayoutModel",
          "state": {
            "_view_name": "LayoutView",
            "grid_template_rows": null,
            "right": null,
            "justify_content": null,
            "_view_module": "@jupyter-widgets/base",
            "overflow": null,
            "_model_module_version": "1.2.0",
            "_view_count": null,
            "flex_flow": null,
            "width": null,
            "min_width": null,
            "border": null,
            "align_items": null,
            "bottom": null,
            "_model_module": "@jupyter-widgets/base",
            "top": null,
            "grid_column": null,
            "overflow_y": null,
            "overflow_x": null,
            "grid_auto_flow": null,
            "grid_area": null,
            "grid_template_columns": null,
            "flex": null,
            "_model_name": "LayoutModel",
            "justify_items": null,
            "grid_row": null,
            "max_height": null,
            "align_content": null,
            "visibility": null,
            "align_self": null,
            "height": null,
            "min_height": null,
            "padding": null,
            "grid_auto_rows": null,
            "grid_gap": null,
            "max_width": null,
            "order": null,
            "_view_module_version": "1.2.0",
            "grid_template_areas": null,
            "object_position": null,
            "object_fit": null,
            "grid_auto_columns": null,
            "margin": null,
            "display": null,
            "left": null
          }
        },
        "526c8edeb16f45348b32333162b6b23d": {
          "model_module": "@jupyter-widgets/controls",
          "model_name": "DescriptionStyleModel",
          "state": {
            "_view_name": "StyleView",
            "_model_name": "DescriptionStyleModel",
            "description_width": "",
            "_view_module": "@jupyter-widgets/base",
            "_model_module_version": "1.5.0",
            "_view_count": null,
            "_view_module_version": "1.2.0",
            "_model_module": "@jupyter-widgets/controls"
          }
        },
        "0aa0763eda8e435ab7d2e2acabe2b758": {
          "model_module": "@jupyter-widgets/base",
          "model_name": "LayoutModel",
          "state": {
            "_view_name": "LayoutView",
            "grid_template_rows": null,
            "right": null,
            "justify_content": null,
            "_view_module": "@jupyter-widgets/base",
            "overflow": null,
            "_model_module_version": "1.2.0",
            "_view_count": null,
            "flex_flow": null,
            "width": null,
            "min_width": null,
            "border": null,
            "align_items": null,
            "bottom": null,
            "_model_module": "@jupyter-widgets/base",
            "top": null,
            "grid_column": null,
            "overflow_y": null,
            "overflow_x": null,
            "grid_auto_flow": null,
            "grid_area": null,
            "grid_template_columns": null,
            "flex": null,
            "_model_name": "LayoutModel",
            "justify_items": null,
            "grid_row": null,
            "max_height": null,
            "align_content": null,
            "visibility": null,
            "align_self": null,
            "height": null,
            "min_height": null,
            "padding": null,
            "grid_auto_rows": null,
            "grid_gap": null,
            "max_width": null,
            "order": null,
            "_view_module_version": "1.2.0",
            "grid_template_areas": null,
            "object_position": null,
            "object_fit": null,
            "grid_auto_columns": null,
            "margin": null,
            "display": null,
            "left": null
          }
        },
        "af44d28b04124607b2f7a5489bd9510e": {
          "model_module": "@jupyter-widgets/controls",
          "model_name": "HBoxModel",
          "state": {
            "_view_name": "HBoxView",
            "_dom_classes": [],
            "_model_name": "HBoxModel",
            "_view_module": "@jupyter-widgets/controls",
            "_model_module_version": "1.5.0",
            "_view_count": null,
            "_view_module_version": "1.5.0",
            "box_style": "",
            "layout": "IPY_MODEL_158cd1c906dc4359befdb91174bd4558",
            "_model_module": "@jupyter-widgets/controls",
            "children": [
              "IPY_MODEL_e8225ac028ec442d9bb50b62daf3c67f",
              "IPY_MODEL_a7a855d80b184d108ff4fb86aa3e28f0"
            ]
          }
        },
        "158cd1c906dc4359befdb91174bd4558": {
          "model_module": "@jupyter-widgets/base",
          "model_name": "LayoutModel",
          "state": {
            "_view_name": "LayoutView",
            "grid_template_rows": null,
            "right": null,
            "justify_content": null,
            "_view_module": "@jupyter-widgets/base",
            "overflow": null,
            "_model_module_version": "1.2.0",
            "_view_count": null,
            "flex_flow": null,
            "width": null,
            "min_width": null,
            "border": null,
            "align_items": null,
            "bottom": null,
            "_model_module": "@jupyter-widgets/base",
            "top": null,
            "grid_column": null,
            "overflow_y": null,
            "overflow_x": null,
            "grid_auto_flow": null,
            "grid_area": null,
            "grid_template_columns": null,
            "flex": null,
            "_model_name": "LayoutModel",
            "justify_items": null,
            "grid_row": null,
            "max_height": null,
            "align_content": null,
            "visibility": null,
            "align_self": null,
            "height": null,
            "min_height": null,
            "padding": null,
            "grid_auto_rows": null,
            "grid_gap": null,
            "max_width": null,
            "order": null,
            "_view_module_version": "1.2.0",
            "grid_template_areas": null,
            "object_position": null,
            "object_fit": null,
            "grid_auto_columns": null,
            "margin": null,
            "display": null,
            "left": null
          }
        },
        "e8225ac028ec442d9bb50b62daf3c67f": {
          "model_module": "@jupyter-widgets/controls",
          "model_name": "FloatProgressModel",
          "state": {
            "_view_name": "ProgressView",
            "style": "IPY_MODEL_0aaf610d09cf478d9d996c06a6c7fcf7",
            "_dom_classes": [],
            "description": "Running Epoch 1: 100%",
            "_model_name": "FloatProgressModel",
            "bar_style": "success",
            "max": 2363,
            "_view_module": "@jupyter-widgets/controls",
            "_model_module_version": "1.5.0",
            "value": 2363,
            "_view_count": null,
            "_view_module_version": "1.5.0",
            "orientation": "horizontal",
            "min": 0,
            "description_tooltip": null,
            "_model_module": "@jupyter-widgets/controls",
            "layout": "IPY_MODEL_d598fa7b5c8c4277a4dd5176a8768f6b"
          }
        },
        "a7a855d80b184d108ff4fb86aa3e28f0": {
          "model_module": "@jupyter-widgets/controls",
          "model_name": "HTMLModel",
          "state": {
            "_view_name": "HTMLView",
            "style": "IPY_MODEL_65ee1c2de1d649ea991214bbc87daeef",
            "_dom_classes": [],
            "description": "",
            "_model_name": "HTMLModel",
            "placeholder": "​",
            "_view_module": "@jupyter-widgets/controls",
            "_model_module_version": "1.5.0",
            "value": " 2363/2363 [17:06&lt;00:00,  2.30it/s]",
            "_view_count": null,
            "_view_module_version": "1.5.0",
            "description_tooltip": null,
            "_model_module": "@jupyter-widgets/controls",
            "layout": "IPY_MODEL_d97cbec4f60a4a10a5752296fd6a9169"
          }
        },
        "0aaf610d09cf478d9d996c06a6c7fcf7": {
          "model_module": "@jupyter-widgets/controls",
          "model_name": "ProgressStyleModel",
          "state": {
            "_view_name": "StyleView",
            "_model_name": "ProgressStyleModel",
            "description_width": "initial",
            "_view_module": "@jupyter-widgets/base",
            "_model_module_version": "1.5.0",
            "_view_count": null,
            "_view_module_version": "1.2.0",
            "bar_color": null,
            "_model_module": "@jupyter-widgets/controls"
          }
        },
        "d598fa7b5c8c4277a4dd5176a8768f6b": {
          "model_module": "@jupyter-widgets/base",
          "model_name": "LayoutModel",
          "state": {
            "_view_name": "LayoutView",
            "grid_template_rows": null,
            "right": null,
            "justify_content": null,
            "_view_module": "@jupyter-widgets/base",
            "overflow": null,
            "_model_module_version": "1.2.0",
            "_view_count": null,
            "flex_flow": null,
            "width": null,
            "min_width": null,
            "border": null,
            "align_items": null,
            "bottom": null,
            "_model_module": "@jupyter-widgets/base",
            "top": null,
            "grid_column": null,
            "overflow_y": null,
            "overflow_x": null,
            "grid_auto_flow": null,
            "grid_area": null,
            "grid_template_columns": null,
            "flex": null,
            "_model_name": "LayoutModel",
            "justify_items": null,
            "grid_row": null,
            "max_height": null,
            "align_content": null,
            "visibility": null,
            "align_self": null,
            "height": null,
            "min_height": null,
            "padding": null,
            "grid_auto_rows": null,
            "grid_gap": null,
            "max_width": null,
            "order": null,
            "_view_module_version": "1.2.0",
            "grid_template_areas": null,
            "object_position": null,
            "object_fit": null,
            "grid_auto_columns": null,
            "margin": null,
            "display": null,
            "left": null
          }
        },
        "65ee1c2de1d649ea991214bbc87daeef": {
          "model_module": "@jupyter-widgets/controls",
          "model_name": "DescriptionStyleModel",
          "state": {
            "_view_name": "StyleView",
            "_model_name": "DescriptionStyleModel",
            "description_width": "",
            "_view_module": "@jupyter-widgets/base",
            "_model_module_version": "1.5.0",
            "_view_count": null,
            "_view_module_version": "1.2.0",
            "_model_module": "@jupyter-widgets/controls"
          }
        },
        "d97cbec4f60a4a10a5752296fd6a9169": {
          "model_module": "@jupyter-widgets/base",
          "model_name": "LayoutModel",
          "state": {
            "_view_name": "LayoutView",
            "grid_template_rows": null,
            "right": null,
            "justify_content": null,
            "_view_module": "@jupyter-widgets/base",
            "overflow": null,
            "_model_module_version": "1.2.0",
            "_view_count": null,
            "flex_flow": null,
            "width": null,
            "min_width": null,
            "border": null,
            "align_items": null,
            "bottom": null,
            "_model_module": "@jupyter-widgets/base",
            "top": null,
            "grid_column": null,
            "overflow_y": null,
            "overflow_x": null,
            "grid_auto_flow": null,
            "grid_area": null,
            "grid_template_columns": null,
            "flex": null,
            "_model_name": "LayoutModel",
            "justify_items": null,
            "grid_row": null,
            "max_height": null,
            "align_content": null,
            "visibility": null,
            "align_self": null,
            "height": null,
            "min_height": null,
            "padding": null,
            "grid_auto_rows": null,
            "grid_gap": null,
            "max_width": null,
            "order": null,
            "_view_module_version": "1.2.0",
            "grid_template_areas": null,
            "object_position": null,
            "object_fit": null,
            "grid_auto_columns": null,
            "margin": null,
            "display": null,
            "left": null
          }
        },
        "8de5d54b7fdf4ce09587fdb7a184aa3d": {
          "model_module": "@jupyter-widgets/controls",
          "model_name": "HBoxModel",
          "state": {
            "_view_name": "HBoxView",
            "_dom_classes": [],
            "_model_name": "HBoxModel",
            "_view_module": "@jupyter-widgets/controls",
            "_model_module_version": "1.5.0",
            "_view_count": null,
            "_view_module_version": "1.5.0",
            "box_style": "",
            "layout": "IPY_MODEL_43704987918b46aebdf3e5e540d5b8a6",
            "_model_module": "@jupyter-widgets/controls",
            "children": [
              "IPY_MODEL_c121b388455844aea70974f36cbfa713",
              "IPY_MODEL_a88c185365e443369a5bfd985e062717"
            ]
          }
        },
        "43704987918b46aebdf3e5e540d5b8a6": {
          "model_module": "@jupyter-widgets/base",
          "model_name": "LayoutModel",
          "state": {
            "_view_name": "LayoutView",
            "grid_template_rows": null,
            "right": null,
            "justify_content": null,
            "_view_module": "@jupyter-widgets/base",
            "overflow": null,
            "_model_module_version": "1.2.0",
            "_view_count": null,
            "flex_flow": null,
            "width": null,
            "min_width": null,
            "border": null,
            "align_items": null,
            "bottom": null,
            "_model_module": "@jupyter-widgets/base",
            "top": null,
            "grid_column": null,
            "overflow_y": null,
            "overflow_x": null,
            "grid_auto_flow": null,
            "grid_area": null,
            "grid_template_columns": null,
            "flex": null,
            "_model_name": "LayoutModel",
            "justify_items": null,
            "grid_row": null,
            "max_height": null,
            "align_content": null,
            "visibility": null,
            "align_self": null,
            "height": null,
            "min_height": null,
            "padding": null,
            "grid_auto_rows": null,
            "grid_gap": null,
            "max_width": null,
            "order": null,
            "_view_module_version": "1.2.0",
            "grid_template_areas": null,
            "object_position": null,
            "object_fit": null,
            "grid_auto_columns": null,
            "margin": null,
            "display": null,
            "left": null
          }
        },
        "c121b388455844aea70974f36cbfa713": {
          "model_module": "@jupyter-widgets/controls",
          "model_name": "FloatProgressModel",
          "state": {
            "_view_name": "ProgressView",
            "style": "IPY_MODEL_d37840c5030b407ca89981b109213fa9",
            "_dom_classes": [],
            "description": "Running Epoch 2: 100%",
            "_model_name": "FloatProgressModel",
            "bar_style": "success",
            "max": 2363,
            "_view_module": "@jupyter-widgets/controls",
            "_model_module_version": "1.5.0",
            "value": 2363,
            "_view_count": null,
            "_view_module_version": "1.5.0",
            "orientation": "horizontal",
            "min": 0,
            "description_tooltip": null,
            "_model_module": "@jupyter-widgets/controls",
            "layout": "IPY_MODEL_6265b80ba6ed43548e6f0ec4151259b8"
          }
        },
        "a88c185365e443369a5bfd985e062717": {
          "model_module": "@jupyter-widgets/controls",
          "model_name": "HTMLModel",
          "state": {
            "_view_name": "HTMLView",
            "style": "IPY_MODEL_8a25cd50657e4b3ba663db6173c22a78",
            "_dom_classes": [],
            "description": "",
            "_model_name": "HTMLModel",
            "placeholder": "​",
            "_view_module": "@jupyter-widgets/controls",
            "_model_module_version": "1.5.0",
            "value": " 2363/2363 [14:37&lt;00:00,  2.69it/s]",
            "_view_count": null,
            "_view_module_version": "1.5.0",
            "description_tooltip": null,
            "_model_module": "@jupyter-widgets/controls",
            "layout": "IPY_MODEL_82b3baf8768646009daa7b0daea6c72b"
          }
        },
        "d37840c5030b407ca89981b109213fa9": {
          "model_module": "@jupyter-widgets/controls",
          "model_name": "ProgressStyleModel",
          "state": {
            "_view_name": "StyleView",
            "_model_name": "ProgressStyleModel",
            "description_width": "initial",
            "_view_module": "@jupyter-widgets/base",
            "_model_module_version": "1.5.0",
            "_view_count": null,
            "_view_module_version": "1.2.0",
            "bar_color": null,
            "_model_module": "@jupyter-widgets/controls"
          }
        },
        "6265b80ba6ed43548e6f0ec4151259b8": {
          "model_module": "@jupyter-widgets/base",
          "model_name": "LayoutModel",
          "state": {
            "_view_name": "LayoutView",
            "grid_template_rows": null,
            "right": null,
            "justify_content": null,
            "_view_module": "@jupyter-widgets/base",
            "overflow": null,
            "_model_module_version": "1.2.0",
            "_view_count": null,
            "flex_flow": null,
            "width": null,
            "min_width": null,
            "border": null,
            "align_items": null,
            "bottom": null,
            "_model_module": "@jupyter-widgets/base",
            "top": null,
            "grid_column": null,
            "overflow_y": null,
            "overflow_x": null,
            "grid_auto_flow": null,
            "grid_area": null,
            "grid_template_columns": null,
            "flex": null,
            "_model_name": "LayoutModel",
            "justify_items": null,
            "grid_row": null,
            "max_height": null,
            "align_content": null,
            "visibility": null,
            "align_self": null,
            "height": null,
            "min_height": null,
            "padding": null,
            "grid_auto_rows": null,
            "grid_gap": null,
            "max_width": null,
            "order": null,
            "_view_module_version": "1.2.0",
            "grid_template_areas": null,
            "object_position": null,
            "object_fit": null,
            "grid_auto_columns": null,
            "margin": null,
            "display": null,
            "left": null
          }
        },
        "8a25cd50657e4b3ba663db6173c22a78": {
          "model_module": "@jupyter-widgets/controls",
          "model_name": "DescriptionStyleModel",
          "state": {
            "_view_name": "StyleView",
            "_model_name": "DescriptionStyleModel",
            "description_width": "",
            "_view_module": "@jupyter-widgets/base",
            "_model_module_version": "1.5.0",
            "_view_count": null,
            "_view_module_version": "1.2.0",
            "_model_module": "@jupyter-widgets/controls"
          }
        },
        "82b3baf8768646009daa7b0daea6c72b": {
          "model_module": "@jupyter-widgets/base",
          "model_name": "LayoutModel",
          "state": {
            "_view_name": "LayoutView",
            "grid_template_rows": null,
            "right": null,
            "justify_content": null,
            "_view_module": "@jupyter-widgets/base",
            "overflow": null,
            "_model_module_version": "1.2.0",
            "_view_count": null,
            "flex_flow": null,
            "width": null,
            "min_width": null,
            "border": null,
            "align_items": null,
            "bottom": null,
            "_model_module": "@jupyter-widgets/base",
            "top": null,
            "grid_column": null,
            "overflow_y": null,
            "overflow_x": null,
            "grid_auto_flow": null,
            "grid_area": null,
            "grid_template_columns": null,
            "flex": null,
            "_model_name": "LayoutModel",
            "justify_items": null,
            "grid_row": null,
            "max_height": null,
            "align_content": null,
            "visibility": null,
            "align_self": null,
            "height": null,
            "min_height": null,
            "padding": null,
            "grid_auto_rows": null,
            "grid_gap": null,
            "max_width": null,
            "order": null,
            "_view_module_version": "1.2.0",
            "grid_template_areas": null,
            "object_position": null,
            "object_fit": null,
            "grid_auto_columns": null,
            "margin": null,
            "display": null,
            "left": null
          }
        }
      }
    }
  },
  "cells": [
    {
      "cell_type": "markdown",
      "metadata": {
        "id": "eBdbIi87tK7R"
      },
      "source": [
        "# Environment Configuration"
      ]
    },
    {
      "cell_type": "code",
      "metadata": {
        "id": "Rg4KdC8fV4Kp",
        "outputId": "af608d3c-262c-45d1-9d8a-8fd67468cd5b",
        "colab": {
          "base_uri": "https://localhost:8080/",
          "height": 357
        }
      },
      "source": [
        "!nvidia-smi"
      ],
      "execution_count": null,
      "outputs": [
        {
          "output_type": "stream",
          "text": [
            "Tue Aug 18 17:35:23 2020       \n",
            "+-----------------------------------------------------------------------------+\n",
            "| NVIDIA-SMI 450.57       Driver Version: 418.67       CUDA Version: 10.1     |\n",
            "|-------------------------------+----------------------+----------------------+\n",
            "| GPU  Name        Persistence-M| Bus-Id        Disp.A | Volatile Uncorr. ECC |\n",
            "| Fan  Temp  Perf  Pwr:Usage/Cap|         Memory-Usage | GPU-Util  Compute M. |\n",
            "|                               |                      |               MIG M. |\n",
            "|===============================+======================+======================|\n",
            "|   0  Tesla P100-PCIE...  Off  | 00000000:00:04.0 Off |                    0 |\n",
            "| N/A   38C    P0    26W / 250W |      0MiB / 16280MiB |      0%      Default |\n",
            "|                               |                      |                 ERR! |\n",
            "+-------------------------------+----------------------+----------------------+\n",
            "                                                                               \n",
            "+-----------------------------------------------------------------------------+\n",
            "| Processes:                                                                  |\n",
            "|  GPU   GI   CI        PID   Type   Process name                  GPU Memory |\n",
            "|        ID   ID                                                   Usage      |\n",
            "|=============================================================================|\n",
            "|  No running processes found                                                 |\n",
            "+-----------------------------------------------------------------------------+\n"
          ],
          "name": "stdout"
        }
      ]
    },
    {
      "cell_type": "code",
      "metadata": {
        "id": "L9o-UPCzNAbp",
        "outputId": "edca6687-ba59-4a25-8e8b-4475053485e1",
        "colab": {
          "base_uri": "https://localhost:8080/",
          "height": 122
        }
      },
      "source": [
        "from google.colab import drive, files\n",
        "drive.mount('/content/drive', force_remount=True)\n",
        "datasets_path = \"drive/My Drive/Colab Notebooks/toxic/datasets/\""
      ],
      "execution_count": null,
      "outputs": [
        {
          "output_type": "stream",
          "text": [
            "Go to this URL in a browser: https://accounts.google.com/o/oauth2/auth?client_id=947318989803-6bn6qk8qdgf4n4g3pfee6491hc0brc4i.apps.googleusercontent.com&redirect_uri=urn%3aietf%3awg%3aoauth%3a2.0%3aoob&scope=email%20https%3a%2f%2fwww.googleapis.com%2fauth%2fdocs.test%20https%3a%2f%2fwww.googleapis.com%2fauth%2fdrive%20https%3a%2f%2fwww.googleapis.com%2fauth%2fdrive.photos.readonly%20https%3a%2f%2fwww.googleapis.com%2fauth%2fpeopleapi.readonly&response_type=code\n",
            "\n",
            "Enter your authorization code:\n",
            "··········\n",
            "Mounted at /content/drive\n"
          ],
          "name": "stdout"
        }
      ]
    },
    {
      "cell_type": "code",
      "metadata": {
        "id": "S2jZrLtUZpPL",
        "outputId": "7bd677e0-75a1-4ca4-8849-2465eefd2bb7",
        "colab": {
          "base_uri": "https://localhost:8080/",
          "height": 34
        }
      },
      "source": [
        "%%writefile setup.sh\n",
        "\n",
        "export CUDA_HOME=/usr/local/cuda-10.1\n",
        "git clone https://github.com/NVIDIA/apex\n",
        "pip install -v --no-cache-dir --global-option=\"--cpp_ext\" --global-option=\"--cuda_ext\" ./apex --quiet\n",
        "pip install simpletransformers --quiet\n",
        "pip install unidecode --quiet"
      ],
      "execution_count": null,
      "outputs": [
        {
          "output_type": "stream",
          "text": [
            "Overwriting setup.sh\n"
          ],
          "name": "stdout"
        }
      ]
    },
    {
      "cell_type": "code",
      "metadata": {
        "id": "dlbfDjdnaDeB"
      },
      "source": [
        "!sh setup.sh"
      ],
      "execution_count": null,
      "outputs": []
    },
    {
      "cell_type": "code",
      "metadata": {
        "id": "mziWnaS8YO8Y"
      },
      "source": [
        "from simpletransformers.classification import (ClassificationModel,\n",
        "                                               MultiLabelClassificationModel)\n",
        "from sklearn.model_selection import train_test_split, learning_curve\n",
        "from sklearn.metrics import (classification_report,\n",
        "                             f1_score,\n",
        "                             accuracy_score,\n",
        "                             confusion_matrix,\n",
        "                             recall_score,\n",
        "                             precision_score,\n",
        "                             roc_auc_score,\n",
        "                             multilabel_confusion_matrix,\n",
        "                             hamming_loss,\n",
        "                             average_precision_score)\n",
        "from sklearn.feature_extraction.text import CountVectorizer\n",
        "from sklearn.svm import SVC\n",
        "import pandas as pd\n",
        "import numpy as np\n",
        "import json\n",
        "import re\n",
        "import nltk\n",
        "import string\n",
        "import logging\n",
        "from unidecode import unidecode\n",
        "\n",
        "nltk.download(\"punkt\")\n",
        "nltk.download(\"stopwords\")\n",
        "\n",
        "logging.basicConfig(level=logging.INFO)\n",
        "transformers_logger = logging.getLogger(\"transformers\")\n",
        "transformers_logger.setLevel(logging.WARNING)\n",
        "\n",
        "SEED = 42"
      ],
      "execution_count": null,
      "outputs": []
    },
    {
      "cell_type": "markdown",
      "metadata": {
        "id": "FxvXoUfA4U5M"
      },
      "source": [
        "# Binary Classification"
      ]
    },
    {
      "cell_type": "code",
      "metadata": {
        "id": "ikYmI2JNarlR"
      },
      "source": [
        "class Experiment():\n",
        "  def __init__(\n",
        "      self, bert_args=None, language=\"portuguese\", n_annotators=1,\n",
        "      balancing=None, do_preprocessing=False, data_amount=1,\n",
        "      text_representation_model=\"bow\"\n",
        "  ):\n",
        "    \"\"\"\n",
        "    language (str) -> portuguse or multilingual\n",
        "    n_annotators -> minimum number of agreement between annotators to consider\n",
        "                    an example as toxic\n",
        "    bert_args (dict) -> custom arguments for the BERT model\n",
        "    balancing (str or None) -> 'undersampling', 'oversampling' or None.\n",
        "    do_preprocessing (bool) -> if true will remove stopwords, accents, numbers,\n",
        "                               hashtags and punctuation.\n",
        "    train_amount (float) -> value from (0,1] that will use this percentage of \n",
        "                            the data to train\n",
        "    text_representation_model (str) -> \"bert\" or \"bow\". Bow implies using SVM.\n",
        "\n",
        "    \"\"\"\n",
        "    self.language = language\n",
        "    self.data_amount = data_amount\n",
        "    self.datasets_path = \"drive/My Drive/Colab Notebooks/toxic/datasets/\"\n",
        "    self.n_annotators = n_annotators\n",
        "    self.__load_dataset(self.language)\n",
        "    self.text_representation_model = text_representation_model\n",
        "\n",
        "    if do_preprocessing:\n",
        "      if self.language == \"multilingual\":\n",
        "        stopwords = list(set([unidecode(w) for w in \\\n",
        "                              nltk.corpus.stopwords.words(\"portuguese\")]))\n",
        "        stopwords.extend(list(set([unidecode(w) for w in \\\n",
        "                              nltk.corpus.stopwords.words(\"english\")])))\n",
        "      else: \n",
        "        stopwords = list(set([unidecode(w) for w in \\\n",
        "                              nltk.corpus.stopwords.words(self.language)]))\n",
        "        self.train_set = self.__preprocess(self.train_set, stopwords=stopwords)\n",
        "        self.test_set = self.__preprocess(self.test_set, stopwords=stopwords)\n",
        "\n",
        "    if balancing == \"undersampling\":\n",
        "      negatives = self.train_set[\"toxic\"] == 0\n",
        "      positives = self.train_set[\"toxic\"] == 1\n",
        "      self.train_set = self.train_set[negatives].sample(\n",
        "          len(self.train_set[positives])).append(\n",
        "          self.train_set[positives],\n",
        "          ignore_index=True\n",
        "      )\n",
        "    \n",
        "    elif balancing == \"oversampling\":\n",
        "      positives = self.train_set[self.train_set[\"toxic\"] == 1]\n",
        "      self.train_set = self.train_set.append(positives, ignore_index=True)\n",
        "\n",
        "    elif balancing is None: pass\n",
        "\n",
        "    else: raise(NotImplementedError)\n",
        "\n",
        "    self.describe_data()\n",
        "      \n",
        "    if text_representation_model == \"bert\":\n",
        "      # Define Bert Pretrained Model\n",
        "      model_name = \"distilbert\"\n",
        "      pretrained_name = \"distilbert-base-multilingual-cased\"\n",
        "\n",
        "      if bert_args:\n",
        "        self.model = ClassificationModel(\n",
        "            model_name, pretrained_name, args=bert_args\n",
        "        )\n",
        "      else:\n",
        "         self.model = ClassificationModel(\n",
        "            model_name, pretrained_name\n",
        "        )\n",
        "\n",
        "  def __load_dataset(self, language):\n",
        "    self.train_set = pd.DataFrame()\n",
        "    self.test_set = pd.DataFrame()\n",
        "    \n",
        "    # Test Set\n",
        "    self.test_set = pd.read_csv(\n",
        "    self.datasets_path +\n",
        "    f\"{self.n_annotators}annotator/\" +\n",
        "    f\"ptbr_test_{self.n_annotators}annotator.csv\")\n",
        "\n",
        "    if language == \"portuguese\" or language == \"multilanguage\":\n",
        "      # Train Set\n",
        "      train = pd.read_csv(\n",
        "      self.datasets_path +\n",
        "      f\"{self.n_annotators}annotator/\" +\n",
        "      f\"ptbr_train_{self.n_annotators}annotator.csv\")\n",
        "\n",
        "      # Dev Set\n",
        "      dev_set = pd.read_csv(\n",
        "      self.datasets_path +\n",
        "      f\"{self.n_annotators}annotator/\" +\n",
        "      f\"ptbr_validation_{self.n_annotators}annotator.csv\")\n",
        "      self.train_set = train.append(dev_set, ignore_index=True)\n",
        "        \n",
        "    if language == \"english\" or language == \"multilanguage\":\n",
        "      # Load OffenseEval2020 data\n",
        "      eng_data = pd.read_csv(datasets_path+\"olid-training-v1.0.tsv\", sep=\"\\t\")\n",
        "      eng_data = eng_data[[\"tweet\", \"subtask_a\"]]\n",
        "      eng_data[\"subtask_a\"] = eng_data[\"subtask_a\"].apply(\n",
        "          lambda x: 1 if x == \"OFF\" else 0)\n",
        "      eng_data.columns = [\"text\", \"toxic\"]\n",
        "      eng_data[\"text\"].apply(\n",
        "        lambda x: x.replace(\"@USER\", \"@user\")\n",
        "      ) # normalize user mention token\n",
        "      \n",
        "      self.train_set = self.train_set.append(\n",
        "          eng_data,\n",
        "          ignore_index=True\n",
        "      )\n",
        "\n",
        "    self.train_set = self.train_set.sample(frac=self.data_amount)\n",
        "\n",
        "\n",
        "  def __preprocess(self, data, stopwords):\n",
        "    \"\"\"Remove hashtaghs, numbers, punctuation, accents, links and stopwords.\"\"\"\n",
        "    df = data\n",
        "\n",
        "    df[\"text\"] = \\\n",
        "      df[\"text\"].apply(lambda x: re.sub(\"#[^ ]+\", \"\", x)) # remove hashtags\n",
        "\n",
        "    df[\"text\"] = \\\n",
        "      df[\"text\"].apply(lambda x: re.sub(\"\\d+\", \"\", x)) # remove numbers\n",
        "\n",
        "    df[\"text\"] = \\\n",
        "    df[\"text\"].apply(lambda x: x.translate(\n",
        "        str.maketrans(\"\", \"\", string.punctuation))) # remove punctuation\n",
        "\n",
        "    df[\"text\"] = \\\n",
        "      df[\"text\"].apply(lambda x: unidecode(x)) # remove accents\n",
        "\n",
        "    df[\"text\"] = \\\n",
        "     df[\"text\"].apply(lambda x: re.sub(\"http[^ ]+\", \"\", x)) # remove links\n",
        "\n",
        "    df[\"text\"] = \\\n",
        "      df[\"text\"].apply(lambda x: \" \".join(\n",
        "          w.strip() for w in x.split() if w not in stopwords)) # remove stopword\n",
        "\n",
        "    return df\n",
        "  \n",
        "  def describe_data(self):\n",
        "    \"\"\"\n",
        "    Prints train set and test set counts and ratios.\n",
        "    \"\"\"\n",
        "    negative_count, positive_count = self.train_set[\"toxic\"].value_counts()\n",
        "    total = negative_count + positive_count\n",
        "    negative_ratio = negative_count/total\n",
        "    positive_ratio = positive_count/total\n",
        "    train_ratio = len(self.train_set)/(len(self.train_set) + len(self.test_set))\n",
        "    print(\n",
        "        f\"\"\"TRAIN SET ({train_ratio:.2f})\n",
        "            Total: {total}\n",
        "            -------Counts-------\n",
        "            Negatives: {negative_count}\n",
        "            Positives: {positive_count}\n",
        "            -------Ratio--------\n",
        "            Negatives: {negative_ratio:.2f}\n",
        "            Positives: {positive_ratio:.2f}\n",
        "        \"\"\"\n",
        "    )\n",
        "\n",
        "    negative_count, positive_count = self.test_set[\"toxic\"].value_counts()\n",
        "    total = negative_count + positive_count\n",
        "    negative_ratio = negative_count/total\n",
        "    positive_ratio = positive_count/total\n",
        "    test_ratio = len(self.test_set)/(len(self.train_set) + len(self.test_set))\n",
        "    print(\n",
        "        f\"\"\"TEST SET ({test_ratio:.2f})\n",
        "            Total: {total}\n",
        "            -------Counts-------\n",
        "            Negatives: {negative_count}\n",
        "            Positives: {positive_count}\n",
        "            -------Ratio--------\n",
        "            Negatives: {negative_ratio:.2f}\n",
        "            Positives: {positive_ratio:.2f}\n",
        "        \"\"\"\n",
        "    )\n",
        "\n",
        "\n",
        "  def train(self):\n",
        "    \"\"\"\n",
        "    Itinializes training.\n",
        "    \"\"\"\n",
        "    if self.text_representation_model == \"bow\":\n",
        "      bow = CountVectorizer()\n",
        "      bow.fit(self.train_set[\"text\"])\n",
        "      self.__X_train = bow.transform(self.train_set[\"text\"])\n",
        "      self.__y_train = self.train_set[\"toxic\"]\n",
        "      self.__X_test = bow.transform(self.test_set[\"text\"])\n",
        "      self.__y_test = self.test_set[\"toxic\"]\n",
        "\n",
        "      self.model = SVC(verbose=True)\n",
        "      self.model.fit(self.__X_train, self.__y_train)\n",
        "\n",
        "    elif self.text_representation_model == \"bert\":\n",
        "      self.model.train_model(self.train_set)\n",
        "\n",
        "  def eval(self):\n",
        "    \"\"\"\n",
        "    Prints accuracy, f1, classification report and (tp, fp, tn, fn) rate.\n",
        "    Returns pd.DataFrame (text, y_true, y_pred, language) with results.\n",
        "    \"\"\"\n",
        "    if self.text_representation_model == \"bert\":\n",
        "      result, model_outputs, wrong_predictions = \\\n",
        "        self.model.eval_model(self.test_set, silent=True)\n",
        "      \n",
        "      y_pred, _ = self.model.predict(list(self.test_set.iloc[:, 0]))\n",
        "      y_true = list(self.test_set.iloc[:, 1])\n",
        "\n",
        "    else:\n",
        "      y_pred = self.model.predict(self.__X_test)\n",
        "      y_true = self.__y_test\n",
        "\n",
        "      cm = confusion_matrix(y_true, y_pred)\n",
        "      result = f\"(tn: {cm[0,0]} fp: {cm[0,1]} fn: {cm[1,0]} tp: {cm[1,1]}\"\n",
        "\n",
        "    \n",
        "    acc = accuracy_score(y_true, y_pred)\n",
        "    f1 = f1_score(y_true, y_pred)\n",
        "    print(f\"Accuracy: {acc:.3f}\\nF1: {f1:.3f}\")\n",
        "    print(\"----------------------------------------\")\n",
        "    print(classification_report(y_true, y_pred))\n",
        "    print(\"----------------------------------------\")\n",
        "    print(result)\n",
        "\n",
        "    results = pd.DataFrame(columns=[\"text\", \"y_true\", \"y_pred\", \"language\"])\n",
        "    results[\"y_true\"] = y_true\n",
        "    results[\"y_pred\"] = y_pred\n",
        "    results[\"text\"] = self.test_set[\"text\"].reset_index(drop=True)\n",
        "    results[\"language\"] = self.language\n",
        "\n",
        "    self.results = results\n",
        "    return self.results\n",
        "\n",
        "  def download_results(self, filename):\n",
        "    self.results.to_csv(f\"{filename}.csv\", index=False)\n",
        "    files.download(f\"{filename}.csv\")"
      ],
      "execution_count": null,
      "outputs": []
    },
    {
      "cell_type": "markdown",
      "metadata": {
        "id": "p8NanFqZ43YQ"
      },
      "source": [
        "## BERT"
      ]
    },
    {
      "cell_type": "markdown",
      "metadata": {
        "id": "OtCEbcJb48bn"
      },
      "source": [
        "## BoW + SVM (Baseline)"
      ]
    },
    {
      "cell_type": "code",
      "metadata": {
        "id": "YQKdsi1E5E1b"
      },
      "source": [
        "exp = Experiment(\n",
        "    language=\"portuguese\",\n",
        "    n_annotators=1,\n",
        "    do_preprocessing=False,\n",
        "    balancing=None,\n",
        "    train_amount=1.0,\n",
        "    text_representation_model=\"bow\"\n",
        ")"
      ],
      "execution_count": null,
      "outputs": []
    },
    {
      "cell_type": "code",
      "metadata": {
        "id": "gNeafVoTxJBo",
        "outputId": "b03ea422-7cfc-4fb8-acec-e6422ff54586",
        "colab": {
          "base_uri": "https://localhost:8080/",
          "height": 34
        }
      },
      "source": [
        "exp.train()"
      ],
      "execution_count": null,
      "outputs": [
        {
          "output_type": "stream",
          "text": [
            "[LibSVM]"
          ],
          "name": "stdout"
        }
      ]
    },
    {
      "cell_type": "code",
      "metadata": {
        "id": "OT8G7xzM_kKf",
        "outputId": "6f86b231-9a9e-43bd-c9b2-bce06ddcf6a1",
        "colab": {
          "base_uri": "https://localhost:8080/",
          "height": 255
        }
      },
      "source": [
        "results = exp.eval()"
      ],
      "execution_count": null,
      "outputs": [
        {
          "output_type": "stream",
          "text": [
            "Accuracy: 0.736\n",
            "F1: 0.692\n",
            "----------------------------------------\n",
            "              precision    recall  f1-score   support\n",
            "\n",
            "           0       0.73      0.82      0.77      1128\n",
            "           1       0.75      0.64      0.69       972\n",
            "\n",
            "    accuracy                           0.74      2100\n",
            "   macro avg       0.74      0.73      0.73      2100\n",
            "weighted avg       0.74      0.74      0.73      2100\n",
            "\n",
            "----------------------------------------\n",
            "\n"
          ],
          "name": "stdout"
        }
      ]
    },
    {
      "cell_type": "code",
      "metadata": {
        "id": "CKJQyIcio51g",
        "outputId": "531c4efb-beed-43b7-ecab-cdc4a425b943",
        "colab": {
          "base_uri": "https://localhost:8080/",
          "height": 428
        }
      },
      "source": [
        "exp = Experiment(\n",
        "    bert_args={\n",
        "      'num_train_epochs': 3,\n",
        "      'evaluate_during_training': False,\n",
        "      'overwrite_output_dir': True,\n",
        "      'manual_seed': SEED,\n",
        "      'do_lower_case': False,\n",
        "      'save_steps': 100000,\n",
        "      'no_cache': False,\n",
        "      'n_gpu': 4,\n",
        "      'train_batch_size': 50,\n",
        "      'max_seq_len': 512,\n",
        "    },\n",
        "    language=\"portuguese\",\n",
        "    n_annotators=1,\n",
        "    do_preprocessing=False,\n",
        "    balancing=None,\n",
        "    data_amount=1.0,\n",
        "    text_representation_model=\"bert\"\n",
        ")"
      ],
      "execution_count": null,
      "outputs": [
        {
          "output_type": "stream",
          "text": [
            "TRAIN SET (0.90)\n",
            "            Total: 18900\n",
            "            -------Counts-------\n",
            "            Negatives: 10617\n",
            "            Positives: 8283\n",
            "            -------Ratio--------\n",
            "            Negatives: 0.56\n",
            "            Positives: 0.44\n",
            "        \n",
            "TEST SET (0.10)\n",
            "            Total: 2100\n",
            "            -------Counts-------\n",
            "            Negatives: 1128\n",
            "            Positives: 972\n",
            "            -------Ratio--------\n",
            "            Negatives: 0.54\n",
            "            Positives: 0.46\n",
            "        \n"
          ],
          "name": "stdout"
        },
        {
          "output_type": "stream",
          "text": [
            "WARNING:transformers.modeling_utils:Some weights of the model checkpoint at distilbert-base-multilingual-cased were not used when initializing DistilBertForSequenceClassification: ['vocab_transform.weight', 'vocab_transform.bias', 'vocab_layer_norm.weight', 'vocab_layer_norm.bias', 'vocab_projector.weight', 'vocab_projector.bias']\n",
            "- This IS expected if you are initializing DistilBertForSequenceClassification from the checkpoint of a model trained on another task or with another architecture (e.g. initializing a BertForSequenceClassification model from a BertForPretraining model).\n",
            "- This IS NOT expected if you are initializing DistilBertForSequenceClassification from the checkpoint of a model that you expect to be exactly identical (initializing a BertForSequenceClassification model from a BertForSequenceClassification model).\n",
            "WARNING:transformers.modeling_utils:Some weights of DistilBertForSequenceClassification were not initialized from the model checkpoint at distilbert-base-multilingual-cased and are newly initialized: ['pre_classifier.weight', 'pre_classifier.bias', 'classifier.weight', 'classifier.bias']\n",
            "You should probably TRAIN this model on a down-stream task to be able to use it for predictions and inference.\n"
          ],
          "name": "stderr"
        }
      ]
    },
    {
      "cell_type": "code",
      "metadata": {
        "id": "IPb2qsrC5vwl"
      },
      "source": [
        "exp.train()"
      ],
      "execution_count": null,
      "outputs": []
    },
    {
      "cell_type": "code",
      "metadata": {
        "id": "UqKpc0Ge5wZA"
      },
      "source": [
        "results = exp.eval()"
      ],
      "execution_count": null,
      "outputs": []
    },
    {
      "cell_type": "code",
      "metadata": {
        "id": "PDFtlRNft8p1"
      },
      "source": [
        "test = ClassificationModel(\"bert\", \"outputs\")"
      ],
      "execution_count": null,
      "outputs": []
    },
    {
      "cell_type": "code",
      "metadata": {
        "id": "H-xdliv8vxmi"
      },
      "source": [
        "!zip -r toxic_bert_model.zip toxic_bert_model"
      ],
      "execution_count": null,
      "outputs": []
    },
    {
      "cell_type": "code",
      "metadata": {
        "id": "Ro7fLhe9vaCE"
      },
      "source": [
        "!ls -lh"
      ],
      "execution_count": null,
      "outputs": []
    },
    {
      "cell_type": "markdown",
      "metadata": {
        "id": "AWPgHA8k3XRV"
      },
      "source": [
        "## Learning Curve Experiment"
      ]
    },
    {
      "cell_type": "code",
      "metadata": {
        "id": "fB-gia1adfjU"
      },
      "source": [
        "seeds = range(1,31)\n",
        "train = pd.read_csv(\n",
        "      datasets_path +\n",
        "      \"1annotator/\" +\n",
        "      \"ptbr_train_1annotator.csv\"\n",
        ")\n",
        "dev_set = pd.read_csv(\n",
        "      datasets_path +\n",
        "      \"1annotator/\" +\n",
        "      \"ptbr_validation_1annotator.csv\"\n",
        ")\n",
        "\n",
        "train = train.append(dev_set, ignore_index=True)\n",
        "test = pd.read_csv(\n",
        "    datasets_path +\n",
        "    \"1annotator/\" +\n",
        "    \"ptbr_test_1annotator.csv\")\n",
        "\n",
        "learning_curve = dict.fromkeys(range(1,11))\n",
        "for i in range(1, 11):\n",
        "  confusion = {1: None, 2: None, 3: None}\n",
        "  f1_negative = []\n",
        "  f1_positive = []\n",
        "  f1_overall = []\n",
        " \n",
        "  precision_negative = []\n",
        "  precision_positive = []\n",
        "  precision_overall = []\n",
        "\n",
        "  recall_negative = []\n",
        "  recall_positive = []\n",
        "  recall_overall = []\n",
        "  for j in range(1,4):\n",
        "    print(f\"-------------{it}/30-------------\")\n",
        "    model = ClassificationModel(\n",
        "      \"distilbert\", \"distilbert-base-multilingual-cased\",\n",
        "      args={\n",
        "        'num_train_epochs': 1,\n",
        "        'evaluate_during_training': False,\n",
        "        'overwrite_output_dir': True,\n",
        "        'do_lower_case': False,\n",
        "        'save_steps': 100000,\n",
        "        'no_cache': True,\n",
        "        'n_gpu': 4,\n",
        "        'train_batch_size': 50,\n",
        "        'max_seq_len': 512,\n",
        "        'silent': True,\n",
        "        'manual_seed': SEED,\n",
        "        \"reprocess_input_data\": True,\n",
        "      },\n",
        "    )\n",
        "    np.random.seed(seeds[it])\n",
        "    indices = np.random.randint(0,len(train), int(len(train)*i/10))\n",
        "    print(indices)\n",
        "    train_ij = train.iloc[indices, :]\n",
        "    try:\n",
        "      model.train_model(train_ij)\n",
        "    except RuntimeError:\n",
        "      with open(f\"learning_curve{i}.json\", \"w\") as f:\n",
        "        json.dump(learning_curve, f)\n",
        "        files.download(f\"learning_curve{i}.json\")\n",
        "        print(f\"OUT OF CUDA MEMORY, STOPPED AT {i}\")\n",
        "    y_pred, _ = model.predict(list(test.iloc[:, 0]))\n",
        "    y_true = test.iloc[:, 1]\n",
        "    tn, fp, fn, tp = confusion_matrix(y_true, y_pred).ravel()\n",
        "    negatives, positives = train_ij[\"toxic\"].value_counts()\n",
        "    total = positives + negatives\n",
        "    a, b = f1_score(y_true, y_pred, average=None)\n",
        "    f1_overall.append(f1_score(y_true, y_pred))\n",
        "    f1_negative.append(a)\n",
        "    f1_positive.append(b)\n",
        "\n",
        "    c, d = precision_score(y_true, y_pred, average=None)\n",
        "    precision_overall.append(precision_score(y_true, y_pred))\n",
        "    precision_negative.append(c)\n",
        "    precision_positive.append(d)\n",
        "\n",
        "    e, f = recall_score(y_true, y_pred, average=None)\n",
        "    recall_overall.append(recall_score(y_true, y_pred))\n",
        "    recall_negative.append(e)\n",
        "    recall_positive.append(f)\n",
        "\n",
        "    confusion[j] = {\n",
        "      \"fp\": int(fp),\n",
        "      \"fn\": int(fn),\n",
        "      \"tp\": int(tp),\n",
        "      \"tn\": int(tn),\n",
        "      \"positives\": int(positives),\n",
        "      \"negatives\": int(negatives),\n",
        "      \"total\": int(total)\n",
        "    }\n",
        "    del indices\n",
        "    del model\n",
        "    it += 1\n",
        "\n",
        "  learning_curve[i] = {\n",
        "    \"f1_overall\": f1_overall,\n",
        "    \"f1_negative\": f1_negative,\n",
        "    \"f1_positive\": f1_positive,\n",
        "    \"precision_overall\": precision_overall,\n",
        "    \"precision_positive\": precision_positive,\n",
        "    \"precision_negative\": precision_negative,\n",
        "    \"recall_overall\": recall_overall,\n",
        "    \"recall_positive\": recall_positive,\n",
        "    \"recall_negative\": recall_negative,\n",
        "    \"confusion_matrix\": confusion\n",
        "  }\n",
        "\n",
        "with open(\"learning_curve.json\", \"w\") as f:\n",
        "  json.dump(learning_curve, f)\n",
        "\n",
        "files.download(f\"learning_curve.json\")\n",
        "    "
      ],
      "execution_count": null,
      "outputs": []
    },
    {
      "cell_type": "markdown",
      "metadata": {
        "id": "Lr9puU2jKhZb"
      },
      "source": [
        "# Multi-label Classification"
      ]
    },
    {
      "cell_type": "code",
      "metadata": {
        "id": "upNRotWCA1k7"
      },
      "source": [
        "multilabel_data = pd.read_csv(datasets_path+\"1annotator/multilabel_grouped.csv\")\n",
        "multilabel_data = multilabel_data[[\"text\", \"homophobia\", \"obscene\", \"insult\", \"racism\", \"misogyny\", \"xenophobia\"]]"
      ],
      "execution_count": null,
      "outputs": []
    },
    {
      "cell_type": "markdown",
      "metadata": {
        "id": "btuBCf0mSWFJ"
      },
      "source": [
        "## BoW + SVM (Baseline)\n"
      ]
    },
    {
      "cell_type": "code",
      "metadata": {
        "id": "SAziBHXb7G8w"
      },
      "source": [
        "def get_dataset_from_label(df, label):\n",
        "  return_df = pd.DataFrame(columns=[\"text\", \"toxic\"])\n",
        "  return_df[\"text\"] = df[\"text\"]\n",
        "  return_df[\"toxic\"] = df.apply(lambda x: 1 if x[label] == 1 else 0, axis=1)\n",
        "\n",
        "  return return_df"
      ],
      "execution_count": null,
      "outputs": []
    },
    {
      "cell_type": "code",
      "metadata": {
        "id": "F4jHoc3c9SAK",
        "outputId": "53125e91-5c9f-4372-e696-a0cbe349896b",
        "colab": {
          "base_uri": "https://localhost:8080/",
          "height": 357
        }
      },
      "source": [
        "multilabel_baseline = dict.fromkeys(multilabel_data.columns[1:])\n",
        "rocauc_scores = []\n",
        "hammingloss_scores = []\n",
        "results = pd.DataFrame(\n",
        "    columns=[\n",
        "             \"homophobia_ytrue\", \"homophobia_ypred\",\n",
        "             \"obscene_ytrue\", \"obscene_ypred\",\n",
        "             \"insult_ytrue\", \"insult_ypred\",\n",
        "             \"racism_ytrue\", \"racism_ypred\",\n",
        "             \"misogyny_ytrue\", \"misogyny_ypred\",\n",
        "             \"xenophobia_ytrue\", \"xenophobia_ypred\"\n",
        "             ])\n",
        "for label in multilabel_data.columns[1:]:\n",
        "  print(label)\n",
        "  df = get_dataset_from_label(multilabel_data, label)\n",
        "  train, test = train_test_split(df, train_size=0.9, random_state=SEED)\n",
        "  bow = CountVectorizer()\n",
        "  train_bow = bow.fit_transform(train.iloc[:, 0])\n",
        "  test_bow = bow.transform(test.iloc[:, 0])\n",
        "\n",
        "  model = SVC()\n",
        "  model.fit(train_bow, train.iloc[:, 1])\n",
        "  y_pred = model.predict(test_bow)\n",
        "  y_true = test.iloc[:, 1]\n",
        "  results.loc[:, f\"{label}_ytrue\"] = y_true\n",
        "  results.loc[:, f\"{label}_ypred\"] = y_pred\n",
        "\n",
        "  rocauc = roc_auc_score(y_true, y_pred)\n",
        "  hamming = hamming_loss(y_true, y_pred)\n",
        "  cm = confusion_matrix(y_true, y_pred)\n",
        "  multilabel_baseline[label] = {\n",
        "      \"label\": label,\n",
        "      \"model\": model,\n",
        "      \"score\": score,\n",
        "      \"tn\": cm[0, 0],\n",
        "      \"fp\": cm[0, 1],\n",
        "      \"fn\": cm[1, 0],\n",
        "      \"tp\": cm[1, 1]\n",
        "  }\n",
        "  rocauc_scores.append(rocauc)\n",
        "  hammingloss_scores.append(hamming)\n",
        "  print(cm)\n",
        "  \n",
        "print(f\"Avg Macro ROC AUC: {np.mean(rocauc_scores)}\")\n",
        "print(f\"Avg Macro Hamming Loss: {np.mean(hammingloss_scores)}\")"
      ],
      "execution_count": null,
      "outputs": [
        {
          "output_type": "stream",
          "text": [
            "homophobia\n",
            "[[2071    3]\n",
            " [  20    6]]\n",
            "obscene\n",
            "[[1301  167]\n",
            " [ 263  369]]\n",
            "insult\n",
            "[[1648   28]\n",
            " [ 322  102]]\n",
            "racism\n",
            "[[2089    0]\n",
            " [  11    0]]\n",
            "misogyny\n",
            "[[2056    1]\n",
            " [  34    9]]\n",
            "xenophobia\n",
            "[[2081    0]\n",
            " [  19    0]]\n",
            "Avg Macro ROC AUC: 0.5943415888816505\n",
            "Avg Macro Hamming Loss: 0.06888888888888889\n"
          ],
          "name": "stdout"
        }
      ]
    },
    {
      "cell_type": "code",
      "metadata": {
        "id": "a-Zyq0bvzxMU"
      },
      "source": [
        "results.to_csv(\"baseline_multilabel.csv\", index=False)"
      ],
      "execution_count": null,
      "outputs": []
    },
    {
      "cell_type": "markdown",
      "metadata": {
        "id": "jEtoEwuSSdUs"
      },
      "source": [
        "## BERT"
      ]
    },
    {
      "cell_type": "code",
      "metadata": {
        "id": "UnG2AGuWDAxQ"
      },
      "source": [
        "multilabel_data[\"labels\"] = multilabel_data.iloc[:, 1:].apply(lambda x: np.array(x), axis=1)"
      ],
      "execution_count": null,
      "outputs": []
    },
    {
      "cell_type": "code",
      "metadata": {
        "id": "iisAyXH9DYWd"
      },
      "source": [
        "multilabel_data = multilabel_data[[\"text\", \"labels\"]]"
      ],
      "execution_count": null,
      "outputs": []
    },
    {
      "cell_type": "code",
      "metadata": {
        "id": "W5vr9ALbBbam"
      },
      "source": [
        "train, test = train_test_split(multilabel_data, train_size=0.9, random_state=SEED)"
      ],
      "execution_count": null,
      "outputs": []
    },
    {
      "cell_type": "code",
      "metadata": {
        "id": "wa3ycBaEffOW",
        "outputId": "4f52bf7f-8c9a-40af-d7c7-e71cd0e15107",
        "colab": {
          "base_uri": "https://localhost:8080/",
          "height": 371,
          "referenced_widgets": [
            "fcdfd05274cf48f684dffec24f994746",
            "271ce6ace38b40da920738a9f004d840",
            "aa83981242094229802c367556051ea3",
            "25b925cc6f184394a96075af08a98e5d",
            "1c58a542c2554c20b094e02f0a84855d",
            "0e3887757d03455bbb5019feefa44de1",
            "661a699f33d545c595c99f91f5c63707",
            "1aecd72632a44715a66d8b12ec4e5d1a",
            "c208838244bb4489920129b97e356391",
            "cb9020e3784441649f02d07191c6caac",
            "871c401f486b46138e50101f6ab594b2",
            "0c720c2689d4478d91d11525920ca873",
            "b7a256b5a8b44007b59982c1ca714549",
            "702d86885f6a4ef18c72e8c323dcb98f",
            "3f43afc31cce4e0e9a9afa4c177013c2",
            "1281be6f560e4f49b097b13fa5b47781",
            "aaf1406322e348489da3ee62e4bbd272",
            "f979fe3289fd4ea2a1c645d4e07b6691",
            "b3765a9f2a214c109467dcf9e6b72f04",
            "9c219464113f4a3caf09d25b017c774c",
            "8969084a147e4ebb9b8a8488aef80aac",
            "d8f9b22838784484b43185f52545fb75",
            "1eb19ffb71184d0ba2bf633a2311fb60",
            "71a36ae2043f4240acd8865401adf27e"
          ]
        }
      },
      "source": [
        "mclf = MultiLabelClassificationModel(model_type=\"bert\", model_name=\"bert-base-multilingual-cased\", num_labels=6)"
      ],
      "execution_count": null,
      "outputs": [
        {
          "output_type": "stream",
          "text": [
            "INFO:filelock:Lock 140344005736880 acquired on /root/.cache/torch/transformers/45629519f3117b89d89fd9c740073d8e4c1f0a70f9842476185100a8afe715d1.65df3cef028a0c91a7b059e4c404a975ebe6843c71267b67019c0e9cfa8a88f0.lock\n"
          ],
          "name": "stderr"
        },
        {
          "output_type": "display_data",
          "data": {
            "application/vnd.jupyter.widget-view+json": {
              "model_id": "fcdfd05274cf48f684dffec24f994746",
              "version_minor": 0,
              "version_major": 2
            },
            "text/plain": [
              "HBox(children=(FloatProgress(value=0.0, description='Downloading', max=625.0, style=ProgressStyle(description_…"
            ]
          },
          "metadata": {
            "tags": []
          }
        },
        {
          "output_type": "stream",
          "text": [
            "INFO:filelock:Lock 140344005736880 released on /root/.cache/torch/transformers/45629519f3117b89d89fd9c740073d8e4c1f0a70f9842476185100a8afe715d1.65df3cef028a0c91a7b059e4c404a975ebe6843c71267b67019c0e9cfa8a88f0.lock\n"
          ],
          "name": "stderr"
        },
        {
          "output_type": "stream",
          "text": [
            "\n"
          ],
          "name": "stdout"
        },
        {
          "output_type": "stream",
          "text": [
            "INFO:filelock:Lock 140344005737608 acquired on /root/.cache/torch/transformers/3d1d2b2daef1e2b3ddc2180ddaae8b7a37d5f279babce0068361f71cd548f615.7131dcb754361639a7d5526985f880879c9bfd144b65a0bf50590bddb7de9059.lock\n"
          ],
          "name": "stderr"
        },
        {
          "output_type": "display_data",
          "data": {
            "application/vnd.jupyter.widget-view+json": {
              "model_id": "c208838244bb4489920129b97e356391",
              "version_minor": 0,
              "version_major": 2
            },
            "text/plain": [
              "HBox(children=(FloatProgress(value=0.0, description='Downloading', max=714314041.0, style=ProgressStyle(descri…"
            ]
          },
          "metadata": {
            "tags": []
          }
        },
        {
          "output_type": "stream",
          "text": [
            "INFO:filelock:Lock 140344005737608 released on /root/.cache/torch/transformers/3d1d2b2daef1e2b3ddc2180ddaae8b7a37d5f279babce0068361f71cd548f615.7131dcb754361639a7d5526985f880879c9bfd144b65a0bf50590bddb7de9059.lock\n"
          ],
          "name": "stderr"
        },
        {
          "output_type": "stream",
          "text": [
            "\n"
          ],
          "name": "stdout"
        },
        {
          "output_type": "stream",
          "text": [
            "WARNING:transformers.modeling_utils:Some weights of the model checkpoint at bert-base-multilingual-cased were not used when initializing BertForMultiLabelSequenceClassification: ['cls.predictions.bias', 'cls.predictions.transform.dense.weight', 'cls.predictions.transform.dense.bias', 'cls.predictions.decoder.weight', 'cls.seq_relationship.weight', 'cls.seq_relationship.bias', 'cls.predictions.transform.LayerNorm.weight', 'cls.predictions.transform.LayerNorm.bias']\n",
            "- This IS expected if you are initializing BertForMultiLabelSequenceClassification from the checkpoint of a model trained on another task or with another architecture (e.g. initializing a BertForSequenceClassification model from a BertForPretraining model).\n",
            "- This IS NOT expected if you are initializing BertForMultiLabelSequenceClassification from the checkpoint of a model that you expect to be exactly identical (initializing a BertForSequenceClassification model from a BertForSequenceClassification model).\n",
            "WARNING:transformers.modeling_utils:Some weights of BertForMultiLabelSequenceClassification were not initialized from the model checkpoint at bert-base-multilingual-cased and are newly initialized: ['classifier.weight', 'classifier.bias']\n",
            "You should probably TRAIN this model on a down-stream task to be able to use it for predictions and inference.\n",
            "INFO:filelock:Lock 140343978061440 acquired on /root/.cache/torch/transformers/96435fa287fbf7e469185f1062386e05a075cadbf6838b74da22bf64b080bc32.99bcd55fc66f4f3360bc49ba472b940b8dcf223ea6a345deb969d607ca900729.lock\n"
          ],
          "name": "stderr"
        },
        {
          "output_type": "display_data",
          "data": {
            "application/vnd.jupyter.widget-view+json": {
              "model_id": "aaf1406322e348489da3ee62e4bbd272",
              "version_minor": 0,
              "version_major": 2
            },
            "text/plain": [
              "HBox(children=(FloatProgress(value=0.0, description='Downloading', max=995526.0, style=ProgressStyle(descripti…"
            ]
          },
          "metadata": {
            "tags": []
          }
        },
        {
          "output_type": "stream",
          "text": [
            "INFO:filelock:Lock 140343978061440 released on /root/.cache/torch/transformers/96435fa287fbf7e469185f1062386e05a075cadbf6838b74da22bf64b080bc32.99bcd55fc66f4f3360bc49ba472b940b8dcf223ea6a345deb969d607ca900729.lock\n"
          ],
          "name": "stderr"
        },
        {
          "output_type": "stream",
          "text": [
            "\n"
          ],
          "name": "stdout"
        }
      ]
    },
    {
      "cell_type": "code",
      "metadata": {
        "id": "x7omJCCCB4I7",
        "outputId": "35bfe43d-db24-444e-e95b-1d97a3c16bad",
        "colab": {
          "base_uri": "https://localhost:8080/",
          "height": 792,
          "referenced_widgets": [
            "e8adbed943bc4fd0a1d4ed2f9caec636",
            "237686386d114bef9b5fecf124465ff6",
            "571a603967d145beb283d6c2ff1f36e1",
            "34f3394c3b164de7a9349a9efac51a32",
            "bdba141c5f824ec8aaafb9ac7799aad1",
            "268bb66532764403b7366d115e8e7b9f",
            "14d97096045a4068a8d7357cb05e51c1",
            "d5f7737064234313a4dfbd1b44930f55",
            "f783530cb3d84669b9ff33beeed8a0ab",
            "727f070fd98a4b28a6aad78f7d77dc79",
            "b9c0356f4d654e2eaa0e11e9848d173f",
            "681d05ce85104521887b88dcc6533a73",
            "10127d763a664834a8b8ef6590cd90fc",
            "391c3033a5ec443fb8d729e6502092a4",
            "91915e7e0d624923beccf099a46e3561",
            "4974043bcfc749d0bc5e0462752e7a78",
            "e7fe0b53e1854dd8b04981331a54bc0e",
            "1642f8829a1e4084852cea05eb01c4a5",
            "ce4499582b524c509033c61085da8d3d",
            "279dfdcd24104b328334e028b0f2ac2a",
            "d97150f4d53244eeba8d0bffd0598aec",
            "3669f03152624269a5309cf953882c75",
            "526c8edeb16f45348b32333162b6b23d",
            "0aa0763eda8e435ab7d2e2acabe2b758",
            "af44d28b04124607b2f7a5489bd9510e",
            "158cd1c906dc4359befdb91174bd4558",
            "e8225ac028ec442d9bb50b62daf3c67f",
            "a7a855d80b184d108ff4fb86aa3e28f0",
            "0aaf610d09cf478d9d996c06a6c7fcf7",
            "d598fa7b5c8c4277a4dd5176a8768f6b",
            "65ee1c2de1d649ea991214bbc87daeef",
            "d97cbec4f60a4a10a5752296fd6a9169",
            "8de5d54b7fdf4ce09587fdb7a184aa3d",
            "43704987918b46aebdf3e5e540d5b8a6",
            "c121b388455844aea70974f36cbfa713",
            "a88c185365e443369a5bfd985e062717",
            "d37840c5030b407ca89981b109213fa9",
            "6265b80ba6ed43548e6f0ec4151259b8",
            "8a25cd50657e4b3ba663db6173c22a78",
            "82b3baf8768646009daa7b0daea6c72b"
          ]
        }
      },
      "source": [
        "mclf.train_model(train, args={\n",
        "      'num_train_epochs': 3,\n",
        "      'evaluate_during_training': False,\n",
        "      'overwrite_output_dir': True,\n",
        "      'manual_seed': SEED,\n",
        "      'do_lower_case': False,\n",
        "      'save_steps': 100000,\n",
        "      'no_cache': False,\n",
        "      'n_gpu': 4,\n",
        "      'train_batch_size': 8,\n",
        "      'max_seq_len': 512,\n",
        "    })"
      ],
      "execution_count": null,
      "outputs": [
        {
          "output_type": "stream",
          "text": [
            "INFO:simpletransformers.classification.classification_model: Converting to features started. Cache is not used.\n"
          ],
          "name": "stderr"
        },
        {
          "output_type": "display_data",
          "data": {
            "application/vnd.jupyter.widget-view+json": {
              "model_id": "e8adbed943bc4fd0a1d4ed2f9caec636",
              "version_minor": 0,
              "version_major": 2
            },
            "text/plain": [
              "HBox(children=(FloatProgress(value=0.0, max=18900.0), HTML(value='')))"
            ]
          },
          "metadata": {
            "tags": []
          }
        },
        {
          "output_type": "stream",
          "text": [
            "\n",
            "Selected optimization level O1:  Insert automatic casts around Pytorch functions and Tensor methods.\n",
            "\n",
            "Defaults for this optimization level are:\n",
            "enabled                : True\n",
            "opt_level              : O1\n",
            "cast_model_type        : None\n",
            "patch_torch_functions  : True\n",
            "keep_batchnorm_fp32    : None\n",
            "master_weights         : None\n",
            "loss_scale             : dynamic\n",
            "Processing user overrides (additional kwargs that are not None)...\n",
            "After processing overrides, optimization options are:\n",
            "enabled                : True\n",
            "opt_level              : O1\n",
            "cast_model_type        : None\n",
            "patch_torch_functions  : True\n",
            "keep_batchnorm_fp32    : None\n",
            "master_weights         : None\n",
            "loss_scale             : dynamic\n"
          ],
          "name": "stdout"
        },
        {
          "output_type": "display_data",
          "data": {
            "application/vnd.jupyter.widget-view+json": {
              "model_id": "f783530cb3d84669b9ff33beeed8a0ab",
              "version_minor": 0,
              "version_major": 2
            },
            "text/plain": [
              "HBox(children=(FloatProgress(value=0.0, description='Epoch', max=3.0, style=ProgressStyle(description_width='i…"
            ]
          },
          "metadata": {
            "tags": []
          }
        },
        {
          "output_type": "display_data",
          "data": {
            "application/vnd.jupyter.widget-view+json": {
              "model_id": "e7fe0b53e1854dd8b04981331a54bc0e",
              "version_minor": 0,
              "version_major": 2
            },
            "text/plain": [
              "HBox(children=(FloatProgress(value=0.0, description='Running Epoch 0', max=2363.0, style=ProgressStyle(descrip…"
            ]
          },
          "metadata": {
            "tags": []
          }
        },
        {
          "output_type": "stream",
          "text": [
            "\rRunning loss: 0.683884"
          ],
          "name": "stdout"
        },
        {
          "output_type": "stream",
          "text": [
            "/usr/local/lib/python3.6/dist-packages/torch/optim/lr_scheduler.py:114: UserWarning: Seems like `optimizer.step()` has been overridden after learning rate scheduler initialization. Please, make sure to call `optimizer.step()` before `lr_scheduler.step()`. See more details at https://pytorch.org/docs/stable/optim.html#how-to-adjust-learning-rate\n",
            "  \"https://pytorch.org/docs/stable/optim.html#how-to-adjust-learning-rate\", UserWarning)\n"
          ],
          "name": "stderr"
        },
        {
          "output_type": "stream",
          "text": [
            "Running loss: 0.693835Gradient overflow.  Skipping step, loss scaler 0 reducing loss scale to 32768.0\n",
            "Running loss: 0.433982"
          ],
          "name": "stdout"
        },
        {
          "output_type": "stream",
          "text": [
            "/usr/local/lib/python3.6/dist-packages/torch/optim/lr_scheduler.py:231: UserWarning: To get the last learning rate computed by the scheduler, please use `get_last_lr()`.\n",
            "  warnings.warn(\"To get the last learning rate computed by the scheduler, \"\n"
          ],
          "name": "stderr"
        },
        {
          "output_type": "stream",
          "text": [
            "Running loss: 0.460534Gradient overflow.  Skipping step, loss scaler 0 reducing loss scale to 16384.0\n",
            "Running loss: 0.363227Gradient overflow.  Skipping step, loss scaler 0 reducing loss scale to 8192.0\n",
            "Running loss: 0.377016\n"
          ],
          "name": "stdout"
        },
        {
          "output_type": "stream",
          "text": [
            "/usr/local/lib/python3.6/dist-packages/torch/optim/lr_scheduler.py:200: UserWarning: Please also save or load the state of the optimzer when saving or loading the scheduler.\n",
            "  warnings.warn(SAVE_STATE_WARNING, UserWarning)\n"
          ],
          "name": "stderr"
        },
        {
          "output_type": "display_data",
          "data": {
            "application/vnd.jupyter.widget-view+json": {
              "model_id": "af44d28b04124607b2f7a5489bd9510e",
              "version_minor": 0,
              "version_major": 2
            },
            "text/plain": [
              "HBox(children=(FloatProgress(value=0.0, description='Running Epoch 1', max=2363.0, style=ProgressStyle(descrip…"
            ]
          },
          "metadata": {
            "tags": []
          }
        },
        {
          "output_type": "stream",
          "text": [
            "Running loss: 0.060513\n"
          ],
          "name": "stdout"
        },
        {
          "output_type": "display_data",
          "data": {
            "application/vnd.jupyter.widget-view+json": {
              "model_id": "8de5d54b7fdf4ce09587fdb7a184aa3d",
              "version_minor": 0,
              "version_major": 2
            },
            "text/plain": [
              "HBox(children=(FloatProgress(value=0.0, description='Running Epoch 2', max=2363.0, style=ProgressStyle(descrip…"
            ]
          },
          "metadata": {
            "tags": []
          }
        },
        {
          "output_type": "stream",
          "text": [
            "Running loss: 0.091259\n",
            "\n"
          ],
          "name": "stdout"
        },
        {
          "output_type": "stream",
          "text": [
            "INFO:simpletransformers.classification.classification_model: Training of bert model complete. Saved to outputs/.\n"
          ],
          "name": "stderr"
        }
      ]
    },
    {
      "cell_type": "code",
      "metadata": {
        "id": "M4XDyJN_AtJD"
      },
      "source": [
        "result, model_outputs, wrong_predictions = mclf.eval_model(test)"
      ],
      "execution_count": null,
      "outputs": []
    },
    {
      "cell_type": "code",
      "metadata": {
        "id": "MOjXLrIw1tag"
      },
      "source": [
        "# \"homophobia\", \"obscene\", \"insult\", \"racism\", \"misogyny\", \"xenophobia\"\n",
        "predictions, outputs = mclf.predict(test[\"text\"])"
      ],
      "execution_count": null,
      "outputs": []
    },
    {
      "cell_type": "code",
      "metadata": {
        "id": "-sVx1F5xGuiv"
      },
      "source": [
        "y_true = np.array([np.array(x) for x in test[\"labels\"]])\n",
        "y_pred = np.array([np.array(x) for x in predictions])"
      ],
      "execution_count": null,
      "outputs": []
    },
    {
      "cell_type": "code",
      "metadata": {
        "id": "Uk9jiTCS-Hw7"
      },
      "source": [
        "bert_results = pd.DataFrame(columns=[\"y_true\", \"y_pred\"])\n",
        "bert_results.loc[:, \"y_true\"] = [labels for labels in y_true]\n",
        "bert_results.loc[:, \"y_pred\"] = [labels for labels in y_pred]"
      ],
      "execution_count": null,
      "outputs": []
    },
    {
      "cell_type": "code",
      "metadata": {
        "id": "436FsCtNFcmx",
        "outputId": "e3de1ba6-2ea7-4b8f-9aa1-fa678194fc5c",
        "colab": {
          "base_uri": "https://localhost:8080/",
          "height": 51
        }
      },
      "source": [
        "print(hamming_loss(y_true,y_pred))\n",
        "print(average_precision_score(y_true,y_pred))"
      ],
      "execution_count": null,
      "outputs": [
        {
          "output_type": "stream",
          "text": [
            "0.06952380952380953\n",
            "0.1914991128887614\n"
          ],
          "name": "stdout"
        }
      ]
    },
    {
      "cell_type": "code",
      "metadata": {
        "id": "100UXa0d-WzI"
      },
      "source": [
        "bert_results.to_csv(\"bert_multilabel.csv\", index=False)"
      ],
      "execution_count": null,
      "outputs": []
    },
    {
      "cell_type": "code",
      "metadata": {
        "id": "rjY-aMK1-shr",
        "outputId": "8adad76c-0ae4-4b35-8b5f-640c99432b2f",
        "colab": {
          "base_uri": "https://localhost:8080/",
          "height": 17
        }
      },
      "source": [
        "files.download(\"bert_multilabel.csv\")"
      ],
      "execution_count": null,
      "outputs": [
        {
          "output_type": "display_data",
          "data": {
            "application/javascript": [
              "\n",
              "    async function download(id, filename, size) {\n",
              "      if (!google.colab.kernel.accessAllowed) {\n",
              "        return;\n",
              "      }\n",
              "      const div = document.createElement('div');\n",
              "      const label = document.createElement('label');\n",
              "      label.textContent = `Downloading \"${filename}\": `;\n",
              "      div.appendChild(label);\n",
              "      const progress = document.createElement('progress');\n",
              "      progress.max = size;\n",
              "      div.appendChild(progress);\n",
              "      document.body.appendChild(div);\n",
              "\n",
              "      const buffers = [];\n",
              "      let downloaded = 0;\n",
              "\n",
              "      const channel = await google.colab.kernel.comms.open(id);\n",
              "      // Send a message to notify the kernel that we're ready.\n",
              "      channel.send({})\n",
              "\n",
              "      for await (const message of channel.messages) {\n",
              "        // Send a message to notify the kernel that we're ready.\n",
              "        channel.send({})\n",
              "        if (message.buffers) {\n",
              "          for (const buffer of message.buffers) {\n",
              "            buffers.push(buffer);\n",
              "            downloaded += buffer.byteLength;\n",
              "            progress.value = downloaded;\n",
              "          }\n",
              "        }\n",
              "      }\n",
              "      const blob = new Blob(buffers, {type: 'application/binary'});\n",
              "      const a = document.createElement('a');\n",
              "      a.href = window.URL.createObjectURL(blob);\n",
              "      a.download = filename;\n",
              "      div.appendChild(a);\n",
              "      a.click();\n",
              "      div.remove();\n",
              "    }\n",
              "  "
            ],
            "text/plain": [
              "<IPython.core.display.Javascript object>"
            ]
          },
          "metadata": {
            "tags": []
          }
        },
        {
          "output_type": "display_data",
          "data": {
            "application/javascript": [
              "download(\"download_c356a051-b2a2-419c-a35d-38068e356d9a\", \"bert_multilabel.csv\", 58814)"
            ],
            "text/plain": [
              "<IPython.core.display.Javascript object>"
            ]
          },
          "metadata": {
            "tags": []
          }
        }
      ]
    },
    {
      "cell_type": "code",
      "metadata": {
        "id": "BNcT8QO8dbDM"
      },
      "source": [
        "roc_auc_score(y_true, y_pred, average='macro')"
      ],
      "execution_count": null,
      "outputs": []
    },
    {
      "cell_type": "code",
      "metadata": {
        "id": "9k0QVOQ5dp63"
      },
      "source": [
        "roc_auc_score(y_true, y_pred, average='micro')"
      ],
      "execution_count": null,
      "outputs": []
    },
    {
      "cell_type": "code",
      "metadata": {
        "id": "U3z-mfm_Cu8-",
        "outputId": "f932c49c-2de9-4c90-f3f8-dfac6d630068",
        "colab": {
          "base_uri": "https://localhost:8080/",
          "height": 306
        }
      },
      "source": [
        "multilabel_confusion_matrix(y_true, y_pred)"
      ],
      "execution_count": null,
      "outputs": [
        {
          "output_type": "execute_result",
          "data": {
            "text/plain": [
              "array([[[2072,    2],\n",
              "        [  25,    1]],\n",
              "\n",
              "       [[1430,   38],\n",
              "        [ 427,  205]],\n",
              "\n",
              "       [[1635,   41],\n",
              "        [ 290,  134]],\n",
              "\n",
              "       [[2089,    0],\n",
              "        [  11,    0]],\n",
              "\n",
              "       [[2057,    0],\n",
              "        [  39,    4]],\n",
              "\n",
              "       [[2081,    0],\n",
              "        [  19,    0]]])"
            ]
          },
          "metadata": {
            "tags": []
          },
          "execution_count": 144
        }
      ]
    },
    {
      "cell_type": "code",
      "metadata": {
        "id": "dx-5vziS10b7",
        "outputId": "b5c413bd-a5ad-4510-d9b8-bfd25ef774c4",
        "colab": {
          "base_uri": "https://localhost:8080/",
          "height": 34
        }
      },
      "source": [
        "hamming_loss(y_true, y_pred)"
      ],
      "execution_count": null,
      "outputs": [
        {
          "output_type": "execute_result",
          "data": {
            "text/plain": [
              "0.14476190476190476"
            ]
          },
          "metadata": {
            "tags": []
          },
          "execution_count": 92
        }
      ]
    }
  ]
}